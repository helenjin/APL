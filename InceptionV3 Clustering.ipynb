{
 "cells": [
  {
   "cell_type": "code",
   "execution_count": 1,
   "metadata": {},
   "outputs": [],
   "source": [
    "import pandas as pd\n",
    "import numpy as np\n",
    "\n",
    "%matplotlib inline\n",
    "import matplotlib.pyplot as plt\n",
    "from sklearn.cluster import KMeans\n",
    "\n",
    "from datetime import datetime"
   ]
  },
  {
   "cell_type": "code",
   "execution_count": 2,
   "metadata": {},
   "outputs": [
    {
     "name": "stdout",
     "output_type": "stream",
     "text": [
      "This step took time: 0:00:25.843834\n"
     ]
    }
   ],
   "source": [
    "time_start = datetime.now()\n",
    "\n",
    "inception_model_avg_pool_features = pd.read_csv('inception_model_avg_pool_features.csv', sep=',', header=None)\n",
    "\n",
    "print('This step took time:', datetime.now() - time_start)"
   ]
  },
  {
   "cell_type": "code",
   "execution_count": 3,
   "metadata": {},
   "outputs": [
    {
     "data": {
      "text/html": [
       "<div>\n",
       "<style scoped>\n",
       "    .dataframe tbody tr th:only-of-type {\n",
       "        vertical-align: middle;\n",
       "    }\n",
       "\n",
       "    .dataframe tbody tr th {\n",
       "        vertical-align: top;\n",
       "    }\n",
       "\n",
       "    .dataframe thead th {\n",
       "        text-align: right;\n",
       "    }\n",
       "</style>\n",
       "<table border=\"1\" class=\"dataframe\">\n",
       "  <thead>\n",
       "    <tr style=\"text-align: right;\">\n",
       "      <th></th>\n",
       "      <th>0</th>\n",
       "      <th>1</th>\n",
       "      <th>2</th>\n",
       "      <th>3</th>\n",
       "      <th>4</th>\n",
       "      <th>5</th>\n",
       "      <th>6</th>\n",
       "      <th>7</th>\n",
       "      <th>8</th>\n",
       "      <th>9</th>\n",
       "      <th>...</th>\n",
       "      <th>2038</th>\n",
       "      <th>2039</th>\n",
       "      <th>2040</th>\n",
       "      <th>2041</th>\n",
       "      <th>2042</th>\n",
       "      <th>2043</th>\n",
       "      <th>2044</th>\n",
       "      <th>2045</th>\n",
       "      <th>2046</th>\n",
       "      <th>2047</th>\n",
       "    </tr>\n",
       "  </thead>\n",
       "  <tbody>\n",
       "    <tr>\n",
       "      <th>0</th>\n",
       "      <td>0.133377</td>\n",
       "      <td>0.342677</td>\n",
       "      <td>0.178775</td>\n",
       "      <td>0.041510</td>\n",
       "      <td>1.054686</td>\n",
       "      <td>0.106099</td>\n",
       "      <td>1.170001</td>\n",
       "      <td>2.894825</td>\n",
       "      <td>0.179475</td>\n",
       "      <td>0.856672</td>\n",
       "      <td>...</td>\n",
       "      <td>0.208056</td>\n",
       "      <td>0.224913</td>\n",
       "      <td>0.890212</td>\n",
       "      <td>1.553342</td>\n",
       "      <td>0.000000</td>\n",
       "      <td>0.201990</td>\n",
       "      <td>0.071552</td>\n",
       "      <td>0.202924</td>\n",
       "      <td>0.126114</td>\n",
       "      <td>0.426053</td>\n",
       "    </tr>\n",
       "    <tr>\n",
       "      <th>1</th>\n",
       "      <td>0.007326</td>\n",
       "      <td>0.663406</td>\n",
       "      <td>0.164203</td>\n",
       "      <td>0.061827</td>\n",
       "      <td>1.072831</td>\n",
       "      <td>0.070127</td>\n",
       "      <td>0.321701</td>\n",
       "      <td>2.870791</td>\n",
       "      <td>0.140631</td>\n",
       "      <td>1.060015</td>\n",
       "      <td>...</td>\n",
       "      <td>0.279203</td>\n",
       "      <td>0.000000</td>\n",
       "      <td>0.530725</td>\n",
       "      <td>0.584156</td>\n",
       "      <td>0.111898</td>\n",
       "      <td>0.056464</td>\n",
       "      <td>0.671985</td>\n",
       "      <td>0.406721</td>\n",
       "      <td>0.008959</td>\n",
       "      <td>0.277332</td>\n",
       "    </tr>\n",
       "    <tr>\n",
       "      <th>2</th>\n",
       "      <td>0.112512</td>\n",
       "      <td>0.841091</td>\n",
       "      <td>0.017433</td>\n",
       "      <td>0.001942</td>\n",
       "      <td>0.913126</td>\n",
       "      <td>0.014176</td>\n",
       "      <td>0.395955</td>\n",
       "      <td>4.062394</td>\n",
       "      <td>0.522530</td>\n",
       "      <td>1.479688</td>\n",
       "      <td>...</td>\n",
       "      <td>0.398116</td>\n",
       "      <td>0.146070</td>\n",
       "      <td>1.779954</td>\n",
       "      <td>2.045502</td>\n",
       "      <td>0.000000</td>\n",
       "      <td>0.000000</td>\n",
       "      <td>0.284544</td>\n",
       "      <td>0.008702</td>\n",
       "      <td>0.000000</td>\n",
       "      <td>0.700210</td>\n",
       "    </tr>\n",
       "    <tr>\n",
       "      <th>3</th>\n",
       "      <td>0.033816</td>\n",
       "      <td>1.156380</td>\n",
       "      <td>0.306495</td>\n",
       "      <td>0.008672</td>\n",
       "      <td>1.556419</td>\n",
       "      <td>0.005394</td>\n",
       "      <td>0.563616</td>\n",
       "      <td>3.101686</td>\n",
       "      <td>0.000000</td>\n",
       "      <td>1.247682</td>\n",
       "      <td>...</td>\n",
       "      <td>0.079420</td>\n",
       "      <td>0.125796</td>\n",
       "      <td>1.892406</td>\n",
       "      <td>1.528290</td>\n",
       "      <td>0.040144</td>\n",
       "      <td>0.072892</td>\n",
       "      <td>1.117707</td>\n",
       "      <td>0.071075</td>\n",
       "      <td>0.000000</td>\n",
       "      <td>0.194967</td>\n",
       "    </tr>\n",
       "    <tr>\n",
       "      <th>4</th>\n",
       "      <td>0.016031</td>\n",
       "      <td>0.302657</td>\n",
       "      <td>0.065434</td>\n",
       "      <td>0.029422</td>\n",
       "      <td>0.913697</td>\n",
       "      <td>0.080030</td>\n",
       "      <td>0.547041</td>\n",
       "      <td>2.267020</td>\n",
       "      <td>0.172676</td>\n",
       "      <td>1.381185</td>\n",
       "      <td>...</td>\n",
       "      <td>0.128366</td>\n",
       "      <td>0.282915</td>\n",
       "      <td>0.979081</td>\n",
       "      <td>0.687971</td>\n",
       "      <td>0.001321</td>\n",
       "      <td>0.120170</td>\n",
       "      <td>0.651967</td>\n",
       "      <td>0.395407</td>\n",
       "      <td>0.000000</td>\n",
       "      <td>0.628950</td>\n",
       "    </tr>\n",
       "  </tbody>\n",
       "</table>\n",
       "<p>5 rows × 2048 columns</p>\n",
       "</div>"
      ],
      "text/plain": [
       "       0         1         2         3         4         5         6     \\\n",
       "0  0.133377  0.342677  0.178775  0.041510  1.054686  0.106099  1.170001   \n",
       "1  0.007326  0.663406  0.164203  0.061827  1.072831  0.070127  0.321701   \n",
       "2  0.112512  0.841091  0.017433  0.001942  0.913126  0.014176  0.395955   \n",
       "3  0.033816  1.156380  0.306495  0.008672  1.556419  0.005394  0.563616   \n",
       "4  0.016031  0.302657  0.065434  0.029422  0.913697  0.080030  0.547041   \n",
       "\n",
       "       7         8         9       ...         2038      2039      2040  \\\n",
       "0  2.894825  0.179475  0.856672    ...     0.208056  0.224913  0.890212   \n",
       "1  2.870791  0.140631  1.060015    ...     0.279203  0.000000  0.530725   \n",
       "2  4.062394  0.522530  1.479688    ...     0.398116  0.146070  1.779954   \n",
       "3  3.101686  0.000000  1.247682    ...     0.079420  0.125796  1.892406   \n",
       "4  2.267020  0.172676  1.381185    ...     0.128366  0.282915  0.979081   \n",
       "\n",
       "       2041      2042      2043      2044      2045      2046      2047  \n",
       "0  1.553342  0.000000  0.201990  0.071552  0.202924  0.126114  0.426053  \n",
       "1  0.584156  0.111898  0.056464  0.671985  0.406721  0.008959  0.277332  \n",
       "2  2.045502  0.000000  0.000000  0.284544  0.008702  0.000000  0.700210  \n",
       "3  1.528290  0.040144  0.072892  1.117707  0.071075  0.000000  0.194967  \n",
       "4  0.687971  0.001321  0.120170  0.651967  0.395407  0.000000  0.628950  \n",
       "\n",
       "[5 rows x 2048 columns]"
      ]
     },
     "execution_count": 3,
     "metadata": {},
     "output_type": "execute_result"
    }
   ],
   "source": [
    "inception_model_avg_pool_features.head()"
   ]
  },
  {
   "cell_type": "code",
   "execution_count": 4,
   "metadata": {},
   "outputs": [
    {
     "data": {
      "text/plain": [
       "(40000, 2048)"
      ]
     },
     "execution_count": 4,
     "metadata": {},
     "output_type": "execute_result"
    }
   ],
   "source": [
    "inception_model_avg_pool_features.shape"
   ]
  },
  {
   "cell_type": "code",
   "execution_count": 5,
   "metadata": {},
   "outputs": [
    {
     "name": "stdout",
     "output_type": "stream",
     "text": [
      "This step took time: 0:00:00\n"
     ]
    }
   ],
   "source": [
    "time_start = datetime.now()\n",
    "\n",
    "kmeans = KMeans(n_clusters=20, max_iter=3000, random_state=2019)\n",
    "\n",
    "print('This step took time:', datetime.now() - time_start)"
   ]
  },
  {
   "cell_type": "code",
   "execution_count": 6,
   "metadata": {},
   "outputs": [
    {
     "name": "stdout",
     "output_type": "stream",
     "text": [
      "This step took time: 0:03:24.086465\n"
     ]
    }
   ],
   "source": [
    "time_start = datetime.now()\n",
    "\n",
    "kmeans.fit(inception_model_avg_pool_features.values)\n",
    "\n",
    "print('This step took time:', datetime.now() - time_start)"
   ]
  },
  {
   "cell_type": "code",
   "execution_count": 7,
   "metadata": {},
   "outputs": [
    {
     "name": "stdout",
     "output_type": "stream",
     "text": [
      "This step took time: 0:00:06.246959\n"
     ]
    }
   ],
   "source": [
    "time_start = datetime.now()\n",
    "\n",
    "output = kmeans.predict(inception_model_avg_pool_features.values)\n",
    "\n",
    "print('This step took time:', datetime.now() - time_start)"
   ]
  },
  {
   "cell_type": "code",
   "execution_count": null,
   "metadata": {},
   "outputs": [],
   "source": []
  }
 ],
 "metadata": {
  "kernelspec": {
   "display_name": "Python 3",
   "language": "python",
   "name": "python3"
  },
  "language_info": {
   "codemirror_mode": {
    "name": "ipython",
    "version": 3
   },
   "file_extension": ".py",
   "mimetype": "text/x-python",
   "name": "python",
   "nbconvert_exporter": "python",
   "pygments_lexer": "ipython3",
   "version": "3.6.5"
  }
 },
 "nbformat": 4,
 "nbformat_minor": 2
}

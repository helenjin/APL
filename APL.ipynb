{
 "cells": [
  {
   "cell_type": "markdown",
   "metadata": {},
   "source": [
    "# Read image and cut into 100 px x 100 px patches"
   ]
  },
  {
   "cell_type": "code",
   "execution_count": 2,
   "metadata": {},
   "outputs": [],
   "source": [
    "import cv2"
   ]
  },
  {
   "cell_type": "code",
   "execution_count": 3,
   "metadata": {},
   "outputs": [],
   "source": [
    "from sklearn.feature_extraction import image"
   ]
  },
  {
   "cell_type": "code",
   "execution_count": 4,
   "metadata": {
    "scrolled": true
   },
   "outputs": [
    {
     "data": {
      "text/plain": [
       "array([[[ 18,  56,  50],\n",
       "        [  4,  42,  36],\n",
       "        [  0,  32,  25],\n",
       "        ...,\n",
       "        [ 67, 182, 163],\n",
       "        [ 34, 150, 143],\n",
       "        [  8, 127, 126]],\n",
       "\n",
       "       [[ 56, 100,  93],\n",
       "        [ 42,  87,  78],\n",
       "        [ 32,  73,  65],\n",
       "        ...,\n",
       "        [ 83, 185, 167],\n",
       "        [ 53, 156, 149],\n",
       "        [ 26, 128, 127]],\n",
       "\n",
       "       [[ 49, 109,  98],\n",
       "        [ 42, 100,  89],\n",
       "        [ 39,  92,  82],\n",
       "        ...,\n",
       "        [106, 186, 169],\n",
       "        [ 71, 145, 139],\n",
       "        [ 27,  99,  99]],\n",
       "\n",
       "       ...,\n",
       "\n",
       "       [[156, 233, 205],\n",
       "        [ 86, 171, 139],\n",
       "        [ 70, 165, 131],\n",
       "        ...,\n",
       "        [ 35,  91,  68],\n",
       "        [ 43, 100,  75],\n",
       "        [ 51, 108,  83]],\n",
       "\n",
       "       [[129, 216, 188],\n",
       "        [ 78, 169, 136],\n",
       "        [ 72, 167, 130],\n",
       "        ...,\n",
       "        [ 46,  97,  77],\n",
       "        [ 38,  99,  73],\n",
       "        [ 33, 100,  71]],\n",
       "\n",
       "       [[ 30, 122,  93],\n",
       "        [ 48, 142, 108],\n",
       "        [ 67, 160, 121],\n",
       "        ...,\n",
       "        [ 48,  96,  78],\n",
       "        [ 17,  82,  56],\n",
       "        [  0,  72,  42]]], dtype=uint8)"
      ]
     },
     "execution_count": 4,
     "metadata": {},
     "output_type": "execute_result"
    }
   ],
   "source": [
    "img = cv2.imread(\"shadow_remove.jpg\")\n",
    "img"
   ]
  },
  {
   "cell_type": "code",
   "execution_count": 5,
   "metadata": {},
   "outputs": [
    {
     "data": {
      "text/plain": [
       "(20000, 20000, 3)"
      ]
     },
     "execution_count": 5,
     "metadata": {},
     "output_type": "execute_result"
    }
   ],
   "source": [
    "img.shape"
   ]
  },
  {
   "cell_type": "code",
   "execution_count": 6,
   "metadata": {},
   "outputs": [],
   "source": [
    "# Display image\n",
    "cv2.imshow('image', img)\n",
    "cv2.waitKey(0)\n",
    "cv2.destroyAllWindows()"
   ]
  },
  {
   "cell_type": "code",
   "execution_count": 7,
   "metadata": {},
   "outputs": [
    {
     "name": "stderr",
     "output_type": "stream",
     "text": [
      "C:\\Anaconda\\lib\\site-packages\\sklearn\\feature_extraction\\image.py:287: FutureWarning: Using a non-tuple sequence for multidimensional indexing is deprecated; use `arr[tuple(seq)]` instead of `arr[seq]`. In the future this will be interpreted as an array index, `arr[np.array(seq)]`, which will result either in an error or a different result.\n",
      "  indexing_strides = arr[slices].strides\n"
     ]
    }
   ],
   "source": [
    "patches = image.extract_patches_2d(img, (100, 100), max_patches= 2000) #img is too large"
   ]
  },
  {
   "cell_type": "code",
   "execution_count": 8,
   "metadata": {},
   "outputs": [
    {
     "data": {
      "text/plain": [
       "array([[[[ 40,  75,  55],\n",
       "         [ 29,  54,  40],\n",
       "         [ 43,  56,  54],\n",
       "         ...,\n",
       "         [ 60, 148, 132],\n",
       "         [ 38, 127, 111],\n",
       "         [ 41, 134, 113]],\n",
       "\n",
       "        [[ 36,  59,  44],\n",
       "         [ 31,  48,  39],\n",
       "         [ 75,  85,  85],\n",
       "         ...,\n",
       "         [ 50, 131, 116],\n",
       "         [ 48, 132, 114],\n",
       "         [ 48, 137, 117]],\n",
       "\n",
       "        [[ 36,  50,  39],\n",
       "         [ 31,  40,  37],\n",
       "         [ 59,  61,  62],\n",
       "         ...,\n",
       "         [ 38, 111, 101],\n",
       "         [ 48, 120, 108],\n",
       "         [ 49, 124, 108]],\n",
       "\n",
       "        ...,\n",
       "\n",
       "        [[ 21,  65,  59],\n",
       "         [  7,  55,  49],\n",
       "         [ 44, 103,  89],\n",
       "         ...,\n",
       "         [ 28,  37,  24],\n",
       "         [ 27,  34,  21],\n",
       "         [ 27,  34,  21]],\n",
       "\n",
       "        [[ 50, 107, 104],\n",
       "         [ 55, 106, 102],\n",
       "         [ 42,  89,  80],\n",
       "         ...,\n",
       "         [ 28,  37,  24],\n",
       "         [ 27,  34,  21],\n",
       "         [ 27,  34,  21]],\n",
       "\n",
       "        [[ 61, 121, 115],\n",
       "         [ 61, 111, 107],\n",
       "         [ 33,  69,  63],\n",
       "         ...,\n",
       "         [ 30,  37,  24],\n",
       "         [ 27,  34,  21],\n",
       "         [ 27,  34,  21]]],\n",
       "\n",
       "\n",
       "       [[[ 52,  42,  35],\n",
       "         [ 36,  30,  25],\n",
       "         [ 44,  52,  42],\n",
       "         ...,\n",
       "         [ 71, 142, 126],\n",
       "         [ 43, 114,  98],\n",
       "         [ 34, 102,  85]],\n",
       "\n",
       "        [[ 60,  58,  50],\n",
       "         [ 34,  31,  27],\n",
       "         [ 22,  26,  20],\n",
       "         ...,\n",
       "         [  2,  63,  49],\n",
       "         [ 29,  84,  75],\n",
       "         [ 34,  86,  79]],\n",
       "\n",
       "        [[ 52,  56,  45],\n",
       "         [ 34,  36,  30],\n",
       "         [ 27,  31,  26],\n",
       "         ...,\n",
       "         [  5,  54,  46],\n",
       "         [ 56, 102,  96],\n",
       "         [ 80, 123, 120]],\n",
       "\n",
       "        ...,\n",
       "\n",
       "        [[ 18,  80,  62],\n",
       "         [ 23,  82,  67],\n",
       "         [ 35,  97,  83],\n",
       "         ...,\n",
       "         [ 48, 134, 126],\n",
       "         [ 74, 153, 144],\n",
       "         [ 74, 147, 137]],\n",
       "\n",
       "        [[ 18,  84,  65],\n",
       "         [ 25,  87,  69],\n",
       "         [ 38, 103,  88],\n",
       "         ...,\n",
       "         [ 79, 168, 159],\n",
       "         [ 93, 171, 164],\n",
       "         [ 77, 150, 140]],\n",
       "\n",
       "        [[ 18,  89,  69],\n",
       "         [ 37,  99,  81],\n",
       "         [ 57, 118, 104],\n",
       "         ...,\n",
       "         [ 98, 190, 177],\n",
       "         [100, 178, 167],\n",
       "         [ 72, 143, 133]]],\n",
       "\n",
       "\n",
       "       [[[ 46,  57,  41],\n",
       "         [ 34,  28,  15],\n",
       "         [ 20,   8,   0],\n",
       "         ...,\n",
       "         [ 80, 119,  97],\n",
       "         [ 62, 101,  79],\n",
       "         [ 70, 120,  96]],\n",
       "\n",
       "        [[ 65,  59,  46],\n",
       "         [ 44,  28,  16],\n",
       "         [ 24,   6,   0],\n",
       "         ...,\n",
       "         [ 67, 124,  99],\n",
       "         [ 58, 110,  87],\n",
       "         [ 24,  65,  44]],\n",
       "\n",
       "        [[ 25,  22,   8],\n",
       "         [ 30,  22,   9],\n",
       "         [ 31,  22,   8],\n",
       "         ...,\n",
       "         [ 29, 108,  81],\n",
       "         [ 42, 110,  85],\n",
       "         [ 25,  61,  45]],\n",
       "\n",
       "        ...,\n",
       "\n",
       "        [[ 33, 123,  94],\n",
       "         [ 50, 154, 121],\n",
       "         [ 63, 170, 137],\n",
       "         ...,\n",
       "         [ 28,  42,  30],\n",
       "         [ 23,  34,  26],\n",
       "         [ 48,  59,  56]],\n",
       "\n",
       "        [[ 71, 155, 130],\n",
       "         [ 55, 153, 123],\n",
       "         [ 67, 168, 136],\n",
       "         ...,\n",
       "         [ 11,   2,   0],\n",
       "         [  7,   2,   0],\n",
       "         [ 16,  28,  22]],\n",
       "\n",
       "        [[ 60, 138, 115],\n",
       "         [ 50, 134, 109],\n",
       "         [ 57, 147, 118],\n",
       "         ...,\n",
       "         [ 52,  44,  44],\n",
       "         [ 49,  44,  45],\n",
       "         [ 23,  42,  33]]],\n",
       "\n",
       "\n",
       "       ...,\n",
       "\n",
       "\n",
       "       [[[  9, 118,  96],\n",
       "         [ 22, 104,  86],\n",
       "         [ 29,  95,  76],\n",
       "         ...,\n",
       "         [ 59, 175, 170],\n",
       "         [ 67, 182, 179],\n",
       "         [ 25, 130, 133]],\n",
       "\n",
       "        [[ 23, 117,  86],\n",
       "         [ 16,  90,  62],\n",
       "         [ 18,  79,  51],\n",
       "         ...,\n",
       "         [ 36, 142, 143],\n",
       "         [ 46, 143, 147],\n",
       "         [  0,  50,  57]],\n",
       "\n",
       "        [[ 35, 120,  76],\n",
       "         [ 33,  99,  58],\n",
       "         [ 39,  93,  56],\n",
       "         ...,\n",
       "         [ 36, 141, 144],\n",
       "         [ 49, 141, 146],\n",
       "         [ 32, 104, 112]],\n",
       "\n",
       "        ...,\n",
       "\n",
       "        [[ 35, 153, 118],\n",
       "         [ 52, 149, 115],\n",
       "         [ 52, 150, 114],\n",
       "         ...,\n",
       "         [ 75, 149, 151],\n",
       "         [ 60, 126, 125],\n",
       "         [ 32,  75,  72]],\n",
       "\n",
       "        [[ 45, 177, 130],\n",
       "         [ 63, 175, 128],\n",
       "         [ 68, 173, 128],\n",
       "         ...,\n",
       "         [ 72, 153, 150],\n",
       "         [ 69, 145, 141],\n",
       "         [ 70, 120, 116]],\n",
       "\n",
       "        [[ 49, 189, 135],\n",
       "         [ 68, 196, 137],\n",
       "         [ 82, 196, 142],\n",
       "         ...,\n",
       "         [ 82, 164, 159],\n",
       "         [ 98, 176, 169],\n",
       "         [117, 170, 167]]],\n",
       "\n",
       "\n",
       "       [[[ 35,  78,  67],\n",
       "         [ 36,  78,  67],\n",
       "         [ 42,  77,  67],\n",
       "         ...,\n",
       "         [ 89, 148, 127],\n",
       "         [ 94, 157, 137],\n",
       "         [ 74, 137, 117]],\n",
       "\n",
       "        [[ 35,  78,  67],\n",
       "         [ 38,  78,  66],\n",
       "         [ 43,  77,  67],\n",
       "         ...,\n",
       "         [ 99, 155, 136],\n",
       "         [ 98, 156, 138],\n",
       "         [ 75, 131, 112]],\n",
       "\n",
       "        [[ 38,  78,  66],\n",
       "         [ 40,  79,  64],\n",
       "         [ 43,  77,  66],\n",
       "         ...,\n",
       "         [103, 155, 137],\n",
       "         [ 97, 150, 130],\n",
       "         [ 70, 124, 101]],\n",
       "\n",
       "        ...,\n",
       "\n",
       "        [[ 39,  28,  24],\n",
       "         [ 34,  28,  23],\n",
       "         [ 24,  28,  22],\n",
       "         ...,\n",
       "         [ 60,  98,  86],\n",
       "         [ 49,  89,  78],\n",
       "         [ 46,  80,  70]],\n",
       "\n",
       "        [[ 38,  29,  26],\n",
       "         [ 32,  29,  25],\n",
       "         [ 23,  31,  24],\n",
       "         ...,\n",
       "         [ 62,  99,  89],\n",
       "         [ 43,  75,  64],\n",
       "         [ 25,  52,  42]],\n",
       "\n",
       "        [[ 36,  31,  28],\n",
       "         [ 31,  32,  28],\n",
       "         [ 24,  34,  28],\n",
       "         ...,\n",
       "         [ 60, 100,  89],\n",
       "         [ 35,  67,  56],\n",
       "         [ 10,  35,  25]]],\n",
       "\n",
       "\n",
       "       [[[ 32,  25,  28],\n",
       "         [ 48,  50,  58],\n",
       "         [ 75,  86,  94],\n",
       "         ...,\n",
       "         [ 53, 123, 110],\n",
       "         [ 65, 134, 124],\n",
       "         [ 68, 134, 129]],\n",
       "\n",
       "        [[ 62,  58,  63],\n",
       "         [ 76,  82,  89],\n",
       "         [ 89, 101, 111],\n",
       "         ...,\n",
       "         [ 57, 125, 118],\n",
       "         [ 70, 137, 134],\n",
       "         [ 73, 140, 137]],\n",
       "\n",
       "        [[ 39,  31,  31],\n",
       "         [ 75,  73,  79],\n",
       "         [104, 109, 118],\n",
       "         ...,\n",
       "         [ 63, 123, 117],\n",
       "         [ 57, 118, 114],\n",
       "         [ 51, 117, 112]],\n",
       "\n",
       "        ...,\n",
       "\n",
       "        [[ 37,  27,  39],\n",
       "         [ 48,  32,  43],\n",
       "         [ 51,  37,  43],\n",
       "         ...,\n",
       "         [ 76, 106,  87],\n",
       "         [ 82, 111,  95],\n",
       "         [ 76, 102,  88]],\n",
       "\n",
       "        [[ 88,  63,  77],\n",
       "         [111,  87,  99],\n",
       "         [ 83,  62,  71],\n",
       "         ...,\n",
       "         [ 55, 106,  79],\n",
       "         [ 75, 130, 105],\n",
       "         [ 80, 136, 113]],\n",
       "\n",
       "        [[ 79,  55,  63],\n",
       "         [ 94,  71,  79],\n",
       "         [ 66,  49,  53],\n",
       "         ...,\n",
       "         [ 65, 127,  97],\n",
       "         [ 83, 150, 121],\n",
       "         [ 92, 159, 132]]]], dtype=uint8)"
      ]
     },
     "execution_count": 8,
     "metadata": {},
     "output_type": "execute_result"
    }
   ],
   "source": [
    "patches"
   ]
  },
  {
   "cell_type": "code",
   "execution_count": 9,
   "metadata": {
    "scrolled": true
   },
   "outputs": [
    {
     "data": {
      "text/plain": [
       "(2000, 100, 100, 3)"
      ]
     },
     "execution_count": 9,
     "metadata": {},
     "output_type": "execute_result"
    }
   ],
   "source": [
    "patches.shape"
   ]
  },
  {
   "cell_type": "code",
   "execution_count": 10,
   "metadata": {},
   "outputs": [
    {
     "data": {
      "text/plain": [
       "(100, 100, 3)"
      ]
     },
     "execution_count": 10,
     "metadata": {},
     "output_type": "execute_result"
    }
   ],
   "source": [
    "patches[0].shape"
   ]
  },
  {
   "cell_type": "markdown",
   "metadata": {},
   "source": [
    "Alternatively, get patches by matrix slicing."
   ]
  },
  {
   "cell_type": "markdown",
   "metadata": {},
   "source": [
    "# Feed patches into pretrained various deep networks"
   ]
  },
  {
   "cell_type": "code",
   "execution_count": 12,
   "metadata": {
    "scrolled": true
   },
   "outputs": [
    {
     "name": "stderr",
     "output_type": "stream",
     "text": [
      "C:\\Anaconda\\lib\\site-packages\\keras_applications\\resnet50.py:265: UserWarning: The output shape of `ResNet50(include_top=False)` has been changed since Keras 2.2.0.\n",
      "  warnings.warn('The output shape of `ResNet50(include_top=False)` '\n"
     ]
    }
   ],
   "source": [
    "import keras\n",
    "import numpy as np\n",
    "from keras.applications import vgg16, inception_v3, resnet50\n",
    " \n",
    "#Load the VGG model\n",
    "vgg_model = vgg16.VGG16(include_top=False, weights='imagenet', input_shape=(100, 100, 3))\n",
    " \n",
    "#Load the Inception_V3 model\n",
    "inception_model = inception_v3.InceptionV3(include_top=False, weights='imagenet', input_shape=(100, 100, 3))\n",
    " \n",
    "#Load the ResNet50 model\n",
    "resnet_model = resnet50.ResNet50(include_top=False, weights='imagenet', input_shape=(100, 100, 3))\n"
   ]
  },
  {
   "cell_type": "code",
   "execution_count": 44,
   "metadata": {},
   "outputs": [
    {
     "name": "stdout",
     "output_type": "stream",
     "text": [
      "Downloading data from https://github.com/fchollet/deep-learning-models/releases/download/v0.1/vgg19_weights_tf_dim_ordering_tf_kernels.h5\n",
      "574717952/574710816 [==============================] - 7s 0us/step\n"
     ]
    }
   ],
   "source": [
    "from keras.applications import vgg19\n",
    "vgg_model = vgg19.VGG19(weights='imagenet')"
   ]
  },
  {
   "cell_type": "code",
   "execution_count": 23,
   "metadata": {
    "scrolled": true
   },
   "outputs": [],
   "source": [
    "# prepare the image for the VGG model\n",
    "processed_image = vgg16.preprocess_input(patches)\n",
    "\n",
    "# get the predicted probabilities for each class\n",
    "predictions = vgg_model.predict(processed_image)\n",
    "# print predictions\n",
    " \n",
    "# # convert the probabilities to class labels\n",
    "# # We will get top 5 predictions which is the default\n",
    "# label = decode_predictions(predictions)\n",
    "# print(label)"
   ]
  },
  {
   "cell_type": "code",
   "execution_count": 24,
   "metadata": {
    "scrolled": true
   },
   "outputs": [
    {
     "data": {
      "text/plain": [
       "array([[[[ 0.        ,  0.        ,  0.        , ...,  0.        ,\n",
       "           0.        ,  0.        ],\n",
       "         [ 0.        ,  0.        ,  0.        , ...,  0.        ,\n",
       "           3.4622376 ,  0.        ],\n",
       "         [ 0.        ,  0.        ,  0.        , ...,  0.        ,\n",
       "           4.594317  ,  0.        ]],\n",
       "\n",
       "        [[ 0.        ,  0.        ,  0.        , ...,  0.        ,\n",
       "           0.        ,  0.        ],\n",
       "         [ 0.        ,  0.        ,  0.        , ...,  0.        ,\n",
       "           0.        ,  0.        ],\n",
       "         [ 0.        ,  0.        ,  0.        , ...,  0.        ,\n",
       "           0.        ,  0.        ]],\n",
       "\n",
       "        [[ 0.        ,  0.        ,  0.        , ...,  0.        ,\n",
       "           0.        ,  0.        ],\n",
       "         [ 0.        ,  0.        , 12.111723  , ...,  0.        ,\n",
       "           0.        ,  5.626127  ],\n",
       "         [ 0.        ,  0.        ,  0.        , ...,  0.        ,\n",
       "           0.05270511, 11.910237  ]]],\n",
       "\n",
       "\n",
       "       [[[ 0.        ,  0.        , 17.897646  , ...,  0.        ,\n",
       "           0.        ,  0.        ],\n",
       "         [ 0.        ,  0.        ,  0.        , ...,  0.        ,\n",
       "           0.        ,  0.        ],\n",
       "         [ 0.        ,  0.        ,  0.        , ...,  0.        ,\n",
       "           6.80158   ,  0.        ]],\n",
       "\n",
       "        [[ 0.        ,  0.        ,  0.        , ...,  0.        ,\n",
       "           0.        ,  0.        ],\n",
       "         [ 0.        ,  0.        ,  0.        , ...,  0.        ,\n",
       "           0.        ,  0.        ],\n",
       "         [ 0.        ,  0.        ,  0.        , ...,  0.        ,\n",
       "           0.        ,  0.        ]],\n",
       "\n",
       "        [[ 0.        ,  0.        ,  0.        , ...,  0.        ,\n",
       "           0.        ,  0.        ],\n",
       "         [ 0.        ,  0.        ,  0.        , ...,  0.        ,\n",
       "           0.        ,  0.        ],\n",
       "         [ 0.        ,  0.        ,  2.288464  , ...,  0.        ,\n",
       "           0.        ,  4.8006983 ]]],\n",
       "\n",
       "\n",
       "       [[[ 0.        ,  0.        ,  0.        , ...,  0.        ,\n",
       "           8.288341  ,  0.        ],\n",
       "         [ 0.        ,  0.        ,  0.        , ...,  0.        ,\n",
       "           9.774154  ,  0.        ],\n",
       "         [ 0.        ,  0.        ,  0.        , ...,  0.        ,\n",
       "           0.        ,  0.        ]],\n",
       "\n",
       "        [[ 0.        ,  0.        ,  3.0412545 , ...,  0.        ,\n",
       "          14.770735  ,  9.810231  ],\n",
       "         [ 0.        ,  0.        ,  0.        , ...,  0.        ,\n",
       "          16.43044   ,  0.        ],\n",
       "         [ 0.        ,  0.        ,  0.        , ...,  0.        ,\n",
       "          23.383858  ,  0.        ]],\n",
       "\n",
       "        [[ 0.        ,  0.        ,  0.        , ...,  0.        ,\n",
       "           0.        ,  0.        ],\n",
       "         [ 0.        ,  0.        ,  0.        , ...,  0.        ,\n",
       "           0.        ,  0.        ],\n",
       "         [ 0.        ,  0.        ,  0.        , ...,  0.        ,\n",
       "          12.81337   ,  0.        ]]],\n",
       "\n",
       "\n",
       "       ...,\n",
       "\n",
       "\n",
       "       [[[ 0.        ,  0.        ,  0.        , ...,  0.        ,\n",
       "           0.        ,  0.        ],\n",
       "         [ 0.        ,  0.        ,  0.        , ...,  0.        ,\n",
       "           0.        ,  0.        ],\n",
       "         [ 0.        ,  0.        ,  0.        , ...,  0.        ,\n",
       "           5.056207  ,  0.        ]],\n",
       "\n",
       "        [[ 0.        ,  0.        ,  0.        , ...,  0.        ,\n",
       "           0.        ,  0.        ],\n",
       "         [ 0.        ,  0.        ,  0.        , ...,  0.        ,\n",
       "           0.        ,  0.        ],\n",
       "         [ 0.        ,  0.        ,  0.        , ...,  0.        ,\n",
       "           0.        ,  0.        ]],\n",
       "\n",
       "        [[ 0.        ,  0.        ,  0.        , ...,  0.        ,\n",
       "           0.        ,  0.        ],\n",
       "         [ 0.        ,  0.        ,  0.        , ...,  0.        ,\n",
       "           0.        ,  0.        ],\n",
       "         [ 0.        ,  0.        ,  0.        , ...,  0.        ,\n",
       "           0.        ,  9.363783  ]]],\n",
       "\n",
       "\n",
       "       [[[ 0.        ,  0.        ,  0.        , ...,  0.        ,\n",
       "           0.        ,  0.        ],\n",
       "         [ 0.        ,  0.        ,  0.        , ...,  0.        ,\n",
       "           2.2580557 ,  0.        ],\n",
       "         [ 0.        ,  0.        ,  1.9937718 , ...,  0.        ,\n",
       "          13.865763  ,  0.        ]],\n",
       "\n",
       "        [[ 0.        ,  0.        ,  0.        , ...,  0.        ,\n",
       "           0.        ,  0.1927444 ],\n",
       "         [ 0.        ,  0.        ,  0.        , ...,  0.        ,\n",
       "           0.        ,  0.        ],\n",
       "         [ 0.        ,  0.        ,  1.4419508 , ...,  0.        ,\n",
       "           0.        ,  0.        ]],\n",
       "\n",
       "        [[ 0.        ,  0.        ,  0.        , ...,  0.        ,\n",
       "           1.9784319 ,  0.        ],\n",
       "         [ 0.        ,  0.        ,  0.        , ...,  0.        ,\n",
       "           0.        ,  0.        ],\n",
       "         [ 0.        ,  0.        ,  0.        , ...,  0.        ,\n",
       "           0.        ,  0.        ]]],\n",
       "\n",
       "\n",
       "       [[[ 0.        ,  0.        ,  0.        , ...,  0.        ,\n",
       "           0.        ,  0.74283516],\n",
       "         [ 0.        ,  0.        ,  1.043515  , ...,  0.        ,\n",
       "           0.        ,  0.        ],\n",
       "         [ 0.        ,  0.        ,  4.0818844 , ...,  0.        ,\n",
       "           0.        ,  0.        ]],\n",
       "\n",
       "        [[ 0.        ,  0.        ,  0.        , ...,  0.        ,\n",
       "           0.        ,  8.671706  ],\n",
       "         [ 0.        ,  0.        ,  0.        , ...,  0.        ,\n",
       "           1.1551497 ,  0.        ],\n",
       "         [ 0.        ,  0.        ,  0.        , ...,  0.        ,\n",
       "           0.        ,  0.        ]],\n",
       "\n",
       "        [[ 0.        ,  0.        ,  0.        , ...,  0.        ,\n",
       "           0.        , 21.271542  ],\n",
       "         [ 0.        ,  0.        ,  0.        , ...,  0.        ,\n",
       "           0.        , 17.251663  ],\n",
       "         [ 0.        ,  0.        ,  0.        , ...,  0.        ,\n",
       "           0.        ,  0.        ]]]], dtype=float32)"
      ]
     },
     "execution_count": 24,
     "metadata": {},
     "output_type": "execute_result"
    }
   ],
   "source": [
    "predictions"
   ]
  },
  {
   "cell_type": "code",
   "execution_count": 19,
   "metadata": {
    "scrolled": true
   },
   "outputs": [
    {
     "data": {
      "text/plain": [
       "(2000, 3, 3, 512)"
      ]
     },
     "execution_count": 19,
     "metadata": {},
     "output_type": "execute_result"
    }
   ],
   "source": [
    "predictions.shape"
   ]
  },
  {
   "cell_type": "code",
   "execution_count": 21,
   "metadata": {},
   "outputs": [
    {
     "data": {
      "text/plain": [
       "(3, 3, 512)"
      ]
     },
     "execution_count": 21,
     "metadata": {},
     "output_type": "execute_result"
    }
   ],
   "source": [
    "predictions[0].shape"
   ]
  },
  {
   "cell_type": "code",
   "execution_count": 34,
   "metadata": {},
   "outputs": [
    {
     "data": {
      "text/plain": [
       "array([0., 0., 0., ..., 0., 0., 0.], dtype=float32)"
      ]
     },
     "execution_count": 34,
     "metadata": {},
     "output_type": "execute_result"
    }
   ],
   "source": [
    "predictions.flatten()"
   ]
  },
  {
   "cell_type": "code",
   "execution_count": 31,
   "metadata": {},
   "outputs": [
    {
     "data": {
      "text/plain": [
       "(9216000,)"
      ]
     },
     "execution_count": 31,
     "metadata": {},
     "output_type": "execute_result"
    }
   ],
   "source": [
    "#predictions_np = np.array(predictions)\n",
    "s = predictions.flatten()\n",
    "s.shape"
   ]
  },
  {
   "cell_type": "code",
   "execution_count": 38,
   "metadata": {},
   "outputs": [],
   "source": [
    "vgg16_feature_list = []\n",
    "for patch in patches:\n",
    "    #img_data = image.img_to_array(img)\n",
    "    img_data = np.expand_dims(patch, axis=0)\n",
    "    img_data = vgg16.preprocess_input(img_data)\n",
    "\n",
    "    vgg16_feature = vgg_model.predict(img_data)\n",
    "    vgg16_feature_np = np.array(vgg16_feature)\n",
    "    vgg16_feature_list.append(vgg16_feature_np.flatten())"
   ]
  },
  {
   "cell_type": "code",
   "execution_count": 41,
   "metadata": {},
   "outputs": [],
   "source": [
    "vgg16_feature_list_np = np.array(vgg16_feature_list)"
   ]
  },
  {
   "cell_type": "code",
   "execution_count": 42,
   "metadata": {},
   "outputs": [
    {
     "data": {
      "text/plain": [
       "array([[ 0.        ,  0.        ,  0.        , ...,  0.        ,\n",
       "         0.05266511, 11.910224  ],\n",
       "       [ 0.        ,  0.        , 17.89776   , ...,  0.        ,\n",
       "         0.        ,  4.8005557 ],\n",
       "       [ 0.        ,  0.        ,  0.        , ...,  0.        ,\n",
       "        12.813364  ,  0.        ],\n",
       "       ...,\n",
       "       [ 0.        ,  0.        ,  0.        , ...,  0.        ,\n",
       "         0.        ,  9.363651  ],\n",
       "       [ 0.        ,  0.        ,  0.        , ...,  0.        ,\n",
       "         0.        ,  0.        ],\n",
       "       [ 0.        ,  0.        ,  0.        , ...,  0.        ,\n",
       "         0.        ,  0.        ]], dtype=float32)"
      ]
     },
     "execution_count": 42,
     "metadata": {},
     "output_type": "execute_result"
    }
   ],
   "source": [
    "vgg16_feature_list_np"
   ]
  },
  {
   "cell_type": "code",
   "execution_count": 43,
   "metadata": {},
   "outputs": [
    {
     "data": {
      "text/plain": [
       "(2000, 4608)"
      ]
     },
     "execution_count": 43,
     "metadata": {},
     "output_type": "execute_result"
    }
   ],
   "source": [
    "vgg16_feature_list_np.shape"
   ]
  },
  {
   "cell_type": "markdown",
   "metadata": {},
   "source": [
    "# Clustering"
   ]
  },
  {
   "cell_type": "code",
   "execution_count": 17,
   "metadata": {},
   "outputs": [],
   "source": [
    "from sklearn.cluster import KMeans"
   ]
  },
  {
   "cell_type": "code",
   "execution_count": 46,
   "metadata": {},
   "outputs": [],
   "source": [
    "%matplotlib inline\n",
    "import matplotlib.pyplot as plt"
   ]
  },
  {
   "cell_type": "code",
   "execution_count": 53,
   "metadata": {},
   "outputs": [],
   "source": [
    "kmeans = KMeans(n_clusters=3)"
   ]
  },
  {
   "cell_type": "code",
   "execution_count": 54,
   "metadata": {},
   "outputs": [
    {
     "data": {
      "text/plain": [
       "KMeans(algorithm='auto', copy_x=True, init='k-means++', max_iter=300,\n",
       "    n_clusters=3, n_init=10, n_jobs=1, precompute_distances='auto',\n",
       "    random_state=None, tol=0.0001, verbose=0)"
      ]
     },
     "execution_count": 54,
     "metadata": {},
     "output_type": "execute_result"
    }
   ],
   "source": [
    "kmeans.fit(vgg16_feature_list_np)"
   ]
  },
  {
   "cell_type": "code",
   "execution_count": 55,
   "metadata": {},
   "outputs": [],
   "source": [
    "y_kmeans = kmeans.predict(vgg16_feature_list_np)"
   ]
  },
  {
   "cell_type": "code",
   "execution_count": 56,
   "metadata": {},
   "outputs": [
    {
     "data": {
      "image/png": "[encoded data removed]",
      "text/plain": [
       "<Figure size 432x288 with 1 Axes>"
      ]
     },
     "metadata": {},
     "output_type": "display_data"
    }
   ],
   "source": [
    "plt.scatter(vgg16_feature_list_np[:, 0], vgg16_feature_list_np[:, 1], c=y_kmeans, s=50, cmap='viridis')\n",
    "\n",
    "centers = kmeans.cluster_centers_\n",
    "plt.scatter(centers[:, 0], centers[:, 1], c='black', s=200, alpha=0.5);"
   ]
  },
  {
   "cell_type": "code",
   "execution_count": null,
   "metadata": {},
   "outputs": [],
   "source": []
  },
  {
   "cell_type": "code",
   "execution_count": 54,
   "metadata": {
    "scrolled": true
   },
   "outputs": [
    {
     "ename": "ValueError",
     "evalue": "Found array with dim 4. Estimator expected <= 2.",
     "output_type": "error",
     "traceback": [
      "\u001b[1;31m------------------------------------------------------------------------\u001b[0m",
      "\u001b[1;31mValueError\u001b[0m                             Traceback (most recent call last)",
      "\u001b[1;32m<ipython-input-54-6fa7830282c5>\u001b[0m in \u001b[0;36m<module>\u001b[1;34m()\u001b[0m\n\u001b[0;32m      1\u001b[0m \u001b[0mkmeans\u001b[0m \u001b[1;33m=\u001b[0m \u001b[0mKMeans\u001b[0m\u001b[1;33m(\u001b[0m\u001b[0mn_clusters\u001b[0m\u001b[1;33m=\u001b[0m\u001b[1;36m10\u001b[0m\u001b[1;33m)\u001b[0m\u001b[1;33m\u001b[0m\u001b[0m\n\u001b[1;32m----> 2\u001b[1;33m \u001b[0mkmeans\u001b[0m\u001b[1;33m.\u001b[0m\u001b[0mfit\u001b[0m\u001b[1;33m(\u001b[0m\u001b[0mpredictions\u001b[0m\u001b[1;33m)\u001b[0m\u001b[1;33m\u001b[0m\u001b[0m\n\u001b[0m\u001b[0;32m      3\u001b[0m \u001b[1;31m#y_kmeans = kmeans.predict()\u001b[0m\u001b[1;33m\u001b[0m\u001b[1;33m\u001b[0m\u001b[0m\n",
      "\u001b[1;32mC:\\Anaconda\\lib\\site-packages\\sklearn\\cluster\\k_means_.py\u001b[0m in \u001b[0;36mfit\u001b[1;34m(self, X, y)\u001b[0m\n\u001b[0;32m    885\u001b[0m         \"\"\"\n\u001b[0;32m    886\u001b[0m         \u001b[0mrandom_state\u001b[0m \u001b[1;33m=\u001b[0m \u001b[0mcheck_random_state\u001b[0m\u001b[1;33m(\u001b[0m\u001b[0mself\u001b[0m\u001b[1;33m.\u001b[0m\u001b[0mrandom_state\u001b[0m\u001b[1;33m)\u001b[0m\u001b[1;33m\u001b[0m\u001b[0m\n\u001b[1;32m--> 887\u001b[1;33m         \u001b[0mX\u001b[0m \u001b[1;33m=\u001b[0m \u001b[0mself\u001b[0m\u001b[1;33m.\u001b[0m\u001b[0m_check_fit_data\u001b[0m\u001b[1;33m(\u001b[0m\u001b[0mX\u001b[0m\u001b[1;33m)\u001b[0m\u001b[1;33m\u001b[0m\u001b[0m\n\u001b[0m\u001b[0;32m    888\u001b[0m \u001b[1;33m\u001b[0m\u001b[0m\n\u001b[0;32m    889\u001b[0m         \u001b[0mself\u001b[0m\u001b[1;33m.\u001b[0m\u001b[0mcluster_centers_\u001b[0m\u001b[1;33m,\u001b[0m \u001b[0mself\u001b[0m\u001b[1;33m.\u001b[0m\u001b[0mlabels_\u001b[0m\u001b[1;33m,\u001b[0m \u001b[0mself\u001b[0m\u001b[1;33m.\u001b[0m\u001b[0minertia_\u001b[0m\u001b[1;33m,\u001b[0m \u001b[0mself\u001b[0m\u001b[1;33m.\u001b[0m\u001b[0mn_iter_\u001b[0m \u001b[1;33m=\u001b[0m\u001b[0;31m \u001b[0m\u001b[0;31m\\\u001b[0m\u001b[1;33m\u001b[0m\u001b[0m\n",
      "\u001b[1;32mC:\\Anaconda\\lib\\site-packages\\sklearn\\cluster\\k_means_.py\u001b[0m in \u001b[0;36m_check_fit_data\u001b[1;34m(self, X)\u001b[0m\n\u001b[0;32m    856\u001b[0m     \u001b[1;32mdef\u001b[0m \u001b[0m_check_fit_data\u001b[0m\u001b[1;33m(\u001b[0m\u001b[0mself\u001b[0m\u001b[1;33m,\u001b[0m \u001b[0mX\u001b[0m\u001b[1;33m)\u001b[0m\u001b[1;33m:\u001b[0m\u001b[1;33m\u001b[0m\u001b[0m\n\u001b[0;32m    857\u001b[0m         \u001b[1;34m\"\"\"Verify that the number of samples given is larger than k\"\"\"\u001b[0m\u001b[1;33m\u001b[0m\u001b[0m\n\u001b[1;32m--> 858\u001b[1;33m         \u001b[0mX\u001b[0m \u001b[1;33m=\u001b[0m \u001b[0mcheck_array\u001b[0m\u001b[1;33m(\u001b[0m\u001b[0mX\u001b[0m\u001b[1;33m,\u001b[0m \u001b[0maccept_sparse\u001b[0m\u001b[1;33m=\u001b[0m\u001b[1;34m'csr'\u001b[0m\u001b[1;33m,\u001b[0m \u001b[0mdtype\u001b[0m\u001b[1;33m=\u001b[0m\u001b[1;33m[\u001b[0m\u001b[0mnp\u001b[0m\u001b[1;33m.\u001b[0m\u001b[0mfloat64\u001b[0m\u001b[1;33m,\u001b[0m \u001b[0mnp\u001b[0m\u001b[1;33m.\u001b[0m\u001b[0mfloat32\u001b[0m\u001b[1;33m]\u001b[0m\u001b[1;33m)\u001b[0m\u001b[1;33m\u001b[0m\u001b[0m\n\u001b[0m\u001b[0;32m    859\u001b[0m         \u001b[1;32mif\u001b[0m \u001b[0mX\u001b[0m\u001b[1;33m.\u001b[0m\u001b[0mshape\u001b[0m\u001b[1;33m[\u001b[0m\u001b[1;36m0\u001b[0m\u001b[1;33m]\u001b[0m \u001b[1;33m<\u001b[0m \u001b[0mself\u001b[0m\u001b[1;33m.\u001b[0m\u001b[0mn_clusters\u001b[0m\u001b[1;33m:\u001b[0m\u001b[1;33m\u001b[0m\u001b[0m\n\u001b[0;32m    860\u001b[0m             raise ValueError(\"n_samples=%d should be >= n_clusters=%d\" % (\n",
      "\u001b[1;32mC:\\Anaconda\\lib\\site-packages\\sklearn\\utils\\validation.py\u001b[0m in \u001b[0;36mcheck_array\u001b[1;34m(array, accept_sparse, dtype, order, copy, force_all_finite, ensure_2d, allow_nd, ensure_min_samples, ensure_min_features, warn_on_dtype, estimator)\u001b[0m\n\u001b[0;32m    449\u001b[0m         \u001b[1;32mif\u001b[0m \u001b[1;32mnot\u001b[0m \u001b[0mallow_nd\u001b[0m \u001b[1;32mand\u001b[0m \u001b[0marray\u001b[0m\u001b[1;33m.\u001b[0m\u001b[0mndim\u001b[0m \u001b[1;33m>=\u001b[0m \u001b[1;36m3\u001b[0m\u001b[1;33m:\u001b[0m\u001b[1;33m\u001b[0m\u001b[0m\n\u001b[0;32m    450\u001b[0m             raise ValueError(\"Found array with dim %d. %s expected <= 2.\"\n\u001b[1;32m--> 451\u001b[1;33m                              % (array.ndim, estimator_name))\n\u001b[0m\u001b[0;32m    452\u001b[0m         \u001b[1;32mif\u001b[0m \u001b[0mforce_all_finite\u001b[0m\u001b[1;33m:\u001b[0m\u001b[1;33m\u001b[0m\u001b[0m\n\u001b[0;32m    453\u001b[0m             \u001b[0m_assert_all_finite\u001b[0m\u001b[1;33m(\u001b[0m\u001b[0marray\u001b[0m\u001b[1;33m)\u001b[0m\u001b[1;33m\u001b[0m\u001b[0m\n",
      "\u001b[1;31mValueError\u001b[0m: Found array with dim 4. Estimator expected <= 2."
     ]
    }
   ],
   "source": [
    "kmeans = KMeans(n_clusters=20)\n",
    "kmeans.fit(predictions)\n",
    "#y_kmeans = kmeans.predict()"
   ]
  },
  {
   "cell_type": "code",
   "execution_count": 18,
   "metadata": {},
   "outputs": [
    {
     "ename": "TypeError",
     "evalue": "Required argument 'bestLabels' (pos 3) not found",
     "output_type": "error",
     "traceback": [
      "\u001b[1;31m------------------------------------------------------------------------\u001b[0m",
      "\u001b[1;31mTypeError\u001b[0m                              Traceback (most recent call last)",
      "\u001b[1;32m<ipython-input-18-a2427848061d>\u001b[0m in \u001b[0;36m<module>\u001b[1;34m()\u001b[0m\n\u001b[1;32m----> 1\u001b[1;33m \u001b[0mcv2\u001b[0m\u001b[1;33m.\u001b[0m\u001b[0mkmeans\u001b[0m\u001b[1;33m(\u001b[0m\u001b[0mpatches\u001b[0m\u001b[1;33m,\u001b[0m \u001b[1;36m5\u001b[0m\u001b[1;33m)\u001b[0m\u001b[1;33m\u001b[0m\u001b[0m\n\u001b[0m",
      "\u001b[1;31mTypeError\u001b[0m: Required argument 'bestLabels' (pos 3) not found"
     ]
    }
   ],
   "source": [
    "cv2.kmeans(patches, 5)"
   ]
  },
  {
   "cell_type": "code",
   "execution_count": 57,
   "metadata": {},
   "outputs": [
    {
     "name": "stdout",
     "output_type": "stream",
     "text": [
      "Downloading data from https://github.com/fchollet/deep-learning-models/releases/download/v0.1/vgg19_weights_tf_dim_ordering_tf_kernels_notop.h5\n",
      "80142336/80134624 [==============================] - 1s 0us/step\n"
     ]
    }
   ],
   "source": [
    "from keras.applications import vgg19\n",
    "\n",
    "vgg19_model = vgg19.VGG19(include_top=False, weights='imagenet', input_shape=(100, 100, 3))"
   ]
  },
  {
   "cell_type": "code",
   "execution_count": 58,
   "metadata": {},
   "outputs": [],
   "source": [
    "# prepare the image for the VGG model\n",
    "processed_image = vgg19.preprocess_input(patches)\n",
    "\n",
    "# get the predicted probabilities for each class\n",
    "predictions = vgg_model.predict(processed_image)"
   ]
  },
  {
   "cell_type": "code",
   "execution_count": 62,
   "metadata": {},
   "outputs": [],
   "source": [
    "vgg19_feature_list = []\n",
    "for patch in patches:\n",
    "    #img_data = image.img_to_array(img)\n",
    "    img_data = np.expand_dims(patch, axis=0)\n",
    "    img_data = vgg19.preprocess_input(img_data)\n",
    "\n",
    "    vgg19_feature = vgg19_model.predict(img_data)\n",
    "    vgg19_feature_np = np.array(vgg19_feature)\n",
    "    vgg19_feature_list.append(vgg19_feature_np.flatten())\n",
    "\n",
    "vgg19_feature_list_np = np.array(vgg19_feature_list)    "
   ]
  },
  {
   "cell_type": "code",
   "execution_count": 64,
   "metadata": {},
   "outputs": [
    {
     "data": {
      "text/plain": [
       "<matplotlib.collections.PathCollection at 0x24d81093438>"
      ]
     },
     "execution_count": 64,
     "metadata": {},
     "output_type": "execute_result"
    },
    {
     "data": {
      "image/png": "[encoded data removed]",
      "text/plain": [
       "<Figure size 432x288 with 1 Axes>"
      ]
     },
     "metadata": {},
     "output_type": "display_data"
    }
   ],
   "source": [
    "kmeans = KMeans(n_clusters=20)\n",
    "kmeans.fit(vgg19_feature_list_np)\n",
    "\n",
    "y_kmeans = kmeans.predict(vgg19_feature_list_np)\n",
    "plt.scatter(vgg19_feature_list_np[:, 0], vgg19_feature_list_np[:, 1], c=y_kmeans)#, s=50, cmap='viridis')\n",
    "\n",
    "# centers = kmeans.cluster_centers_\n",
    "# plt.scatter(centers[:, 0], centers[:, 1], c='black', s=200, alpha=0.5);"
   ]
  },
  {
   "cell_type": "code",
   "execution_count": null,
   "metadata": {},
   "outputs": [],
   "source": []
  }
 ],
 "metadata": {
  "kernelspec": {
   "display_name": "Python 3",
   "language": "python",
   "name": "python3"
  },
  "language_info": {
   "codemirror_mode": {
    "name": "ipython",
    "version": 3
   },
   "file_extension": ".py",
   "mimetype": "text/x-python",
   "name": "python",
   "nbconvert_exporter": "python",
   "pygments_lexer": "ipython3",
   "version": "3.6.5"
  }
 },
 "nbformat": 4,
 "nbformat_minor": 2
}

{
 "cells": [
  {
   "cell_type": "code",
   "execution_count": 1,
   "metadata": {},
   "outputs": [],
   "source": [
    "import pandas as pd\n",
    "import numpy as np\n",
    "\n",
    "%matplotlib inline\n",
    "import matplotlib.pyplot as plt\n",
    "from sklearn.cluster import KMeans\n",
    "\n",
    "from datetime import datetime"
   ]
  },
  {
   "cell_type": "code",
   "execution_count": 2,
   "metadata": {
    "scrolled": true
   },
   "outputs": [
    {
     "name": "stdout",
     "output_type": "stream",
     "text": [
      "This step took time: 0:00:55.485724\n"
     ]
    }
   ],
   "source": [
    "time_start = datetime.now()\n",
    "\n",
    "vgg16_model_fc1_features = pd.read_csv('vgg16_model_fc1_features.csv', sep=',', header=None)\n",
    "\n",
    "print('This step took time:', datetime.now() - time_start)"
   ]
  },
  {
   "cell_type": "code",
   "execution_count": 3,
   "metadata": {},
   "outputs": [
    {
     "data": {
      "text/html": [
       "<div>\n",
       "<style scoped>\n",
       "    .dataframe tbody tr th:only-of-type {\n",
       "        vertical-align: middle;\n",
       "    }\n",
       "\n",
       "    .dataframe tbody tr th {\n",
       "        vertical-align: top;\n",
       "    }\n",
       "\n",
       "    .dataframe thead th {\n",
       "        text-align: right;\n",
       "    }\n",
       "</style>\n",
       "<table border=\"1\" class=\"dataframe\">\n",
       "  <thead>\n",
       "    <tr style=\"text-align: right;\">\n",
       "      <th></th>\n",
       "      <th>0</th>\n",
       "      <th>1</th>\n",
       "      <th>2</th>\n",
       "      <th>3</th>\n",
       "      <th>4</th>\n",
       "      <th>5</th>\n",
       "      <th>6</th>\n",
       "      <th>7</th>\n",
       "      <th>8</th>\n",
       "      <th>9</th>\n",
       "      <th>...</th>\n",
       "      <th>4086</th>\n",
       "      <th>4087</th>\n",
       "      <th>4088</th>\n",
       "      <th>4089</th>\n",
       "      <th>4090</th>\n",
       "      <th>4091</th>\n",
       "      <th>4092</th>\n",
       "      <th>4093</th>\n",
       "      <th>4094</th>\n",
       "      <th>4095</th>\n",
       "    </tr>\n",
       "  </thead>\n",
       "  <tbody>\n",
       "    <tr>\n",
       "      <th>0</th>\n",
       "      <td>0.000000</td>\n",
       "      <td>1.474292</td>\n",
       "      <td>0.0</td>\n",
       "      <td>0.0</td>\n",
       "      <td>0.0</td>\n",
       "      <td>2.954327</td>\n",
       "      <td>3.064247</td>\n",
       "      <td>5.079985</td>\n",
       "      <td>0.0</td>\n",
       "      <td>1.183462</td>\n",
       "      <td>...</td>\n",
       "      <td>0.0</td>\n",
       "      <td>0.000000</td>\n",
       "      <td>2.351649</td>\n",
       "      <td>2.044281</td>\n",
       "      <td>0.0</td>\n",
       "      <td>0.0</td>\n",
       "      <td>0.838144</td>\n",
       "      <td>0.0</td>\n",
       "      <td>1.923328</td>\n",
       "      <td>1.126978</td>\n",
       "    </tr>\n",
       "    <tr>\n",
       "      <th>1</th>\n",
       "      <td>0.000000</td>\n",
       "      <td>0.000000</td>\n",
       "      <td>0.0</td>\n",
       "      <td>0.0</td>\n",
       "      <td>0.0</td>\n",
       "      <td>1.077510</td>\n",
       "      <td>0.000000</td>\n",
       "      <td>5.343241</td>\n",
       "      <td>0.0</td>\n",
       "      <td>0.000000</td>\n",
       "      <td>...</td>\n",
       "      <td>0.0</td>\n",
       "      <td>0.000000</td>\n",
       "      <td>2.653351</td>\n",
       "      <td>0.642653</td>\n",
       "      <td>0.0</td>\n",
       "      <td>0.0</td>\n",
       "      <td>0.014651</td>\n",
       "      <td>0.0</td>\n",
       "      <td>0.000000</td>\n",
       "      <td>1.543805</td>\n",
       "    </tr>\n",
       "    <tr>\n",
       "      <th>2</th>\n",
       "      <td>0.000000</td>\n",
       "      <td>0.000000</td>\n",
       "      <td>0.0</td>\n",
       "      <td>0.0</td>\n",
       "      <td>0.0</td>\n",
       "      <td>0.698330</td>\n",
       "      <td>0.515525</td>\n",
       "      <td>3.865017</td>\n",
       "      <td>0.0</td>\n",
       "      <td>0.000000</td>\n",
       "      <td>...</td>\n",
       "      <td>0.0</td>\n",
       "      <td>0.000000</td>\n",
       "      <td>2.469089</td>\n",
       "      <td>2.300757</td>\n",
       "      <td>0.0</td>\n",
       "      <td>0.0</td>\n",
       "      <td>5.040221</td>\n",
       "      <td>0.0</td>\n",
       "      <td>1.591969</td>\n",
       "      <td>2.947772</td>\n",
       "    </tr>\n",
       "    <tr>\n",
       "      <th>3</th>\n",
       "      <td>0.389706</td>\n",
       "      <td>0.000000</td>\n",
       "      <td>0.0</td>\n",
       "      <td>0.0</td>\n",
       "      <td>0.0</td>\n",
       "      <td>2.365584</td>\n",
       "      <td>4.045814</td>\n",
       "      <td>1.669262</td>\n",
       "      <td>0.0</td>\n",
       "      <td>0.000000</td>\n",
       "      <td>...</td>\n",
       "      <td>0.0</td>\n",
       "      <td>0.000000</td>\n",
       "      <td>0.000000</td>\n",
       "      <td>0.000000</td>\n",
       "      <td>0.0</td>\n",
       "      <td>0.0</td>\n",
       "      <td>3.136661</td>\n",
       "      <td>0.0</td>\n",
       "      <td>0.957077</td>\n",
       "      <td>5.003048</td>\n",
       "    </tr>\n",
       "    <tr>\n",
       "      <th>4</th>\n",
       "      <td>0.181763</td>\n",
       "      <td>1.061538</td>\n",
       "      <td>0.0</td>\n",
       "      <td>0.0</td>\n",
       "      <td>0.0</td>\n",
       "      <td>4.373861</td>\n",
       "      <td>3.493958</td>\n",
       "      <td>6.155066</td>\n",
       "      <td>0.0</td>\n",
       "      <td>0.000000</td>\n",
       "      <td>...</td>\n",
       "      <td>0.0</td>\n",
       "      <td>0.298311</td>\n",
       "      <td>2.583762</td>\n",
       "      <td>3.086634</td>\n",
       "      <td>0.0</td>\n",
       "      <td>0.0</td>\n",
       "      <td>0.735781</td>\n",
       "      <td>0.0</td>\n",
       "      <td>0.653318</td>\n",
       "      <td>0.000000</td>\n",
       "    </tr>\n",
       "  </tbody>\n",
       "</table>\n",
       "<p>5 rows × 4096 columns</p>\n",
       "</div>"
      ],
      "text/plain": [
       "       0         1     2     3     4         5         6         7     8     \\\n",
       "0  0.000000  1.474292   0.0   0.0   0.0  2.954327  3.064247  5.079985   0.0   \n",
       "1  0.000000  0.000000   0.0   0.0   0.0  1.077510  0.000000  5.343241   0.0   \n",
       "2  0.000000  0.000000   0.0   0.0   0.0  0.698330  0.515525  3.865017   0.0   \n",
       "3  0.389706  0.000000   0.0   0.0   0.0  2.365584  4.045814  1.669262   0.0   \n",
       "4  0.181763  1.061538   0.0   0.0   0.0  4.373861  3.493958  6.155066   0.0   \n",
       "\n",
       "       9       ...     4086      4087      4088      4089  4090  4091  \\\n",
       "0  1.183462    ...      0.0  0.000000  2.351649  2.044281   0.0   0.0   \n",
       "1  0.000000    ...      0.0  0.000000  2.653351  0.642653   0.0   0.0   \n",
       "2  0.000000    ...      0.0  0.000000  2.469089  2.300757   0.0   0.0   \n",
       "3  0.000000    ...      0.0  0.000000  0.000000  0.000000   0.0   0.0   \n",
       "4  0.000000    ...      0.0  0.298311  2.583762  3.086634   0.0   0.0   \n",
       "\n",
       "       4092  4093      4094      4095  \n",
       "0  0.838144   0.0  1.923328  1.126978  \n",
       "1  0.014651   0.0  0.000000  1.543805  \n",
       "2  5.040221   0.0  1.591969  2.947772  \n",
       "3  3.136661   0.0  0.957077  5.003048  \n",
       "4  0.735781   0.0  0.653318  0.000000  \n",
       "\n",
       "[5 rows x 4096 columns]"
      ]
     },
     "execution_count": 3,
     "metadata": {},
     "output_type": "execute_result"
    }
   ],
   "source": [
    "vgg16_model_fc1_features.head()"
   ]
  },
  {
   "cell_type": "code",
   "execution_count": 4,
   "metadata": {},
   "outputs": [
    {
     "data": {
      "text/plain": [
       "(40000, 4096)"
      ]
     },
     "execution_count": 4,
     "metadata": {},
     "output_type": "execute_result"
    }
   ],
   "source": [
    "vgg16_model_fc1_features.shape"
   ]
  },
  {
   "cell_type": "code",
   "execution_count": 5,
   "metadata": {},
   "outputs": [],
   "source": [
    "from sklearn.preprocessing import StandardScaler\n",
    "\n",
    "X = StandardScaler().fit_transform(vgg16_model_fc1_features.values)"
   ]
  },
  {
   "cell_type": "code",
   "execution_count": 8,
   "metadata": {},
   "outputs": [
    {
     "name": "stdout",
     "output_type": "stream",
     "text": [
      "This step took time: 0:00:00\n"
     ]
    }
   ],
   "source": [
    "time_start = datetime.now()\n",
    "\n",
    "kmeans = KMeans(n_clusters=20, max_iter=300, random_state=200)\n",
    "\n",
    "print('This step took time:', datetime.now() - time_start)"
   ]
  },
  {
   "cell_type": "code",
   "execution_count": 9,
   "metadata": {},
   "outputs": [
    {
     "name": "stdout",
     "output_type": "stream",
     "text": [
      "This step took time: 0:13:58.625063\n"
     ]
    }
   ],
   "source": [
    "time_start = datetime.now()\n",
    "\n",
    "kmeans.fit(X)\n",
    "\n",
    "print('This step took time:', datetime.now() - time_start)"
   ]
  },
  {
   "cell_type": "code",
   "execution_count": null,
   "metadata": {},
   "outputs": [],
   "source": [
    "time_start = datetime.now()\n",
    "\n",
    "output = kmeans.predict(X)\n",
    "\n",
    "print('This step took time:', datetime.now() - time_start)"
   ]
  },
  {
   "cell_type": "code",
   "execution_count": null,
   "metadata": {
    "scrolled": true
   },
   "outputs": [],
   "source": [
    "labels = [i for i in range(20)]\n",
    "cluster_dict = dict.fromkeys(labels, None) # dict with cluster number as keys and indices of relevant patches as values\n",
    "\n",
    "for i in range(len(output)):\n",
    "    if cluster_dict[output[i]] == None:\n",
    "        cluster_dict[output[i]] = [i]\n",
    "    else:\n",
    "        cluster_dict[output[i]].append(i)\n",
    "        \n",
    "[len(cluster_dict[key]) for key in cluster_dict]"
   ]
  },
  {
   "cell_type": "code",
   "execution_count": 11,
   "metadata": {
    "scrolled": true
   },
   "outputs": [
    {
     "ename": "ValueError",
     "evalue": "The truth value of a Series is ambiguous. Use a.empty, a.bool(), a.item(), a.any() or a.all().",
     "output_type": "error",
     "traceback": [
      "\u001b[1;31m---------------------------------------------------------------------------\u001b[0m",
      "\u001b[1;31mValueError\u001b[0m                                Traceback (most recent call last)",
      "\u001b[1;32m<ipython-input-11-5874057dce7e>\u001b[0m in \u001b[0;36m<module>\u001b[1;34m()\u001b[0m\n\u001b[0;32m      2\u001b[0m \u001b[0mlfdp_ground_labels\u001b[0m \u001b[1;33m=\u001b[0m \u001b[0mlfdp_ground_labels\u001b[0m\u001b[1;33m.\u001b[0m\u001b[0mdrop\u001b[0m\u001b[1;33m(\u001b[0m\u001b[1;34m'Unnamed: 0'\u001b[0m\u001b[1;33m,\u001b[0m \u001b[0maxis\u001b[0m\u001b[1;33m=\u001b[0m\u001b[1;36m1\u001b[0m\u001b[1;33m)\u001b[0m\u001b[1;33m\u001b[0m\u001b[0m\n\u001b[0;32m      3\u001b[0m \u001b[1;33m\u001b[0m\u001b[0m\n\u001b[1;32m----> 4\u001b[1;33m \u001b[0mlfdp_palm\u001b[0m \u001b[1;33m=\u001b[0m \u001b[0mlfdp_ground_labels\u001b[0m\u001b[1;33m.\u001b[0m\u001b[0mloc\u001b[0m\u001b[1;33m[\u001b[0m\u001b[0mlfdp_ground_labels\u001b[0m\u001b[1;33m[\u001b[0m\u001b[1;34m'SPECIES'\u001b[0m\u001b[1;33m]\u001b[0m \u001b[1;33m==\u001b[0m \u001b[1;34m'PREMON'\u001b[0m \u001b[1;32mand\u001b[0m \u001b[0mlfdp_ground_labels\u001b[0m\u001b[1;33m[\u001b[0m\u001b[1;34m'ALIVE'\u001b[0m\u001b[1;33m]\u001b[0m \u001b[1;33m==\u001b[0m \u001b[1;34m'A'\u001b[0m\u001b[1;33m]\u001b[0m\u001b[1;33m\u001b[0m\u001b[0m\n\u001b[0m\u001b[0;32m      5\u001b[0m \u001b[0mlfdp_palm\u001b[0m \u001b[1;33m=\u001b[0m \u001b[0mlfdp_palm\u001b[0m\u001b[1;33m[\u001b[0m\u001b[0mlfdp_palm\u001b[0m\u001b[1;33m[\u001b[0m\u001b[1;34m'DIAM'\u001b[0m\u001b[1;33m]\u001b[0m \u001b[1;33m>=\u001b[0m \u001b[1;36m20\u001b[0m\u001b[1;33m]\u001b[0m\u001b[1;33m\u001b[0m\u001b[0m\n\u001b[0;32m      6\u001b[0m \u001b[0mlfdp_palm\u001b[0m\u001b[1;33m\u001b[0m\u001b[0m\n",
      "\u001b[1;32mC:\\Anaconda\\lib\\site-packages\\pandas\\core\\generic.py\u001b[0m in \u001b[0;36m__nonzero__\u001b[1;34m(self)\u001b[0m\n\u001b[0;32m   1571\u001b[0m         raise ValueError(\"The truth value of a {0} is ambiguous. \"\n\u001b[0;32m   1572\u001b[0m                          \u001b[1;34m\"Use a.empty, a.bool(), a.item(), a.any() or a.all().\"\u001b[0m\u001b[1;33m\u001b[0m\u001b[0m\n\u001b[1;32m-> 1573\u001b[1;33m                          .format(self.__class__.__name__))\n\u001b[0m\u001b[0;32m   1574\u001b[0m \u001b[1;33m\u001b[0m\u001b[0m\n\u001b[0;32m   1575\u001b[0m     \u001b[0m__bool__\u001b[0m \u001b[1;33m=\u001b[0m \u001b[0m__nonzero__\u001b[0m\u001b[1;33m\u001b[0m\u001b[0m\n",
      "\u001b[1;31mValueError\u001b[0m: The truth value of a Series is ambiguous. Use a.empty, a.bool(), a.item(), a.any() or a.all()."
     ]
    }
   ],
   "source": [
    "lfdp_ground_labels = pd.read_csv(\"LFDP_ground_labels.csv\")\n",
    "lfdp_ground_labels = lfdp_ground_labels.drop('Unnamed: 0', axis=1)\n",
    "\n",
    "lfdp_palm = lfdp_ground_labels.loc[lfdp_ground_labels['SPECIES'] == 'PREMON']\n",
    "lfdp_palm = lfdp_palm[lfdp_palm['DIAM'] >= 20]\n",
    "lfdp_palm"
   ]
  },
  {
   "cell_type": "code",
   "execution_count": 34,
   "metadata": {
    "scrolled": true
   },
   "outputs": [
    {
     "data": {
      "text/plain": [
       "defaultdict(int,\n",
       "            {0: 0.0015611340077432247,\n",
       "             4: 0.0033519553072625698,\n",
       "             5: 0.0040650406504065045,\n",
       "             11: 0.0035046728971962616,\n",
       "             16: 0.0026595744680851063,\n",
       "             2: 0.00303951367781155,\n",
       "             10: 0.004690431519699813,\n",
       "             15: 0.002828854314002829,\n",
       "             1: 0.0033112582781456954,\n",
       "             14: 0.0017857142857142857,\n",
       "             19: 0.001519756838905775})"
      ]
     },
     "execution_count": 34,
     "metadata": {},
     "output_type": "execute_result"
    }
   ],
   "source": [
    "from collections import defaultdict\n",
    "\n",
    "palm_relevance = defaultdict(int)\n",
    "\n",
    "for index, entry in lfdp_palm.iterrows():\n",
    "    patch_y = entry['pix_1']%100\n",
    "    patch_x = int(entry['pix_2']/100)\n",
    "    \n",
    "    patches0_i = patch_x*100 + patch_y\n",
    "    palm_relevance[output[patches0_i]] += 1\n",
    "    \n",
    "for cluster_i in palm_relevance:\n",
    "    palm_relevance[cluster_i] /= len(cluster_dict[cluster_i])\n",
    "    \n",
    "palm_relevance"
   ]
  },
  {
   "cell_type": "code",
   "execution_count": null,
   "metadata": {},
   "outputs": [],
   "source": []
  },
  {
   "cell_type": "code",
   "execution_count": null,
   "metadata": {},
   "outputs": [],
   "source": []
  }
 ],
 "metadata": {
  "kernelspec": {
   "display_name": "Python 3",
   "language": "python",
   "name": "python3"
  },
  "language_info": {
   "codemirror_mode": {
    "name": "ipython",
    "version": 3
   },
   "file_extension": ".py",
   "mimetype": "text/x-python",
   "name": "python",
   "nbconvert_exporter": "python",
   "pygments_lexer": "ipython3",
   "version": "3.6.5"
  }
 },
 "nbformat": 4,
 "nbformat_minor": 2
}

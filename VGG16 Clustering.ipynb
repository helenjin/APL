{
 "cells": [
  {
   "cell_type": "code",
   "execution_count": 1,
   "metadata": {},
   "outputs": [],
   "source": [
    "import pandas as pd\n",
    "import numpy as np\n",
    "\n",
    "%matplotlib inline\n",
    "import matplotlib.pyplot as plt\n",
    "from sklearn.cluster import KMeans\n",
    "\n",
    "from datetime import datetime"
   ]
  },
  {
   "cell_type": "code",
   "execution_count": 2,
   "metadata": {
    "scrolled": true
   },
   "outputs": [
    {
     "name": "stdout",
     "output_type": "stream",
     "text": [
      "This step took time: 0:00:53.993653\n"
     ]
    }
   ],
   "source": [
    "time_start = datetime.now()\n",
    "\n",
    "vgg16_model_fc1_features = pd.read_csv('vgg16_model_fc1_features.csv', sep=',', header=None)\n",
    "\n",
    "print('This step took time:', datetime.now() - time_start)"
   ]
  },
  {
   "cell_type": "code",
   "execution_count": 3,
   "metadata": {},
   "outputs": [
    {
     "data": {
      "text/html": [
       "<div>\n",
       "<style scoped>\n",
       "    .dataframe tbody tr th:only-of-type {\n",
       "        vertical-align: middle;\n",
       "    }\n",
       "\n",
       "    .dataframe tbody tr th {\n",
       "        vertical-align: top;\n",
       "    }\n",
       "\n",
       "    .dataframe thead th {\n",
       "        text-align: right;\n",
       "    }\n",
       "</style>\n",
       "<table border=\"1\" class=\"dataframe\">\n",
       "  <thead>\n",
       "    <tr style=\"text-align: right;\">\n",
       "      <th></th>\n",
       "      <th>0</th>\n",
       "      <th>1</th>\n",
       "      <th>2</th>\n",
       "      <th>3</th>\n",
       "      <th>4</th>\n",
       "      <th>5</th>\n",
       "      <th>6</th>\n",
       "      <th>7</th>\n",
       "      <th>8</th>\n",
       "      <th>9</th>\n",
       "      <th>...</th>\n",
       "      <th>4086</th>\n",
       "      <th>4087</th>\n",
       "      <th>4088</th>\n",
       "      <th>4089</th>\n",
       "      <th>4090</th>\n",
       "      <th>4091</th>\n",
       "      <th>4092</th>\n",
       "      <th>4093</th>\n",
       "      <th>4094</th>\n",
       "      <th>4095</th>\n",
       "    </tr>\n",
       "  </thead>\n",
       "  <tbody>\n",
       "    <tr>\n",
       "      <th>0</th>\n",
       "      <td>0.0</td>\n",
       "      <td>0.0</td>\n",
       "      <td>0.0</td>\n",
       "      <td>0.0</td>\n",
       "      <td>0.0</td>\n",
       "      <td>0.000000</td>\n",
       "      <td>0.000000</td>\n",
       "      <td>4.257493</td>\n",
       "      <td>0.0</td>\n",
       "      <td>0.0</td>\n",
       "      <td>...</td>\n",
       "      <td>0.0</td>\n",
       "      <td>0.0</td>\n",
       "      <td>2.554471</td>\n",
       "      <td>0.793837</td>\n",
       "      <td>5.341460</td>\n",
       "      <td>0.0</td>\n",
       "      <td>0.438358</td>\n",
       "      <td>0.0</td>\n",
       "      <td>0.337547</td>\n",
       "      <td>0.0</td>\n",
       "    </tr>\n",
       "    <tr>\n",
       "      <th>1</th>\n",
       "      <td>0.0</td>\n",
       "      <td>0.0</td>\n",
       "      <td>0.0</td>\n",
       "      <td>0.0</td>\n",
       "      <td>0.0</td>\n",
       "      <td>0.000000</td>\n",
       "      <td>5.266844</td>\n",
       "      <td>3.305715</td>\n",
       "      <td>0.0</td>\n",
       "      <td>0.0</td>\n",
       "      <td>...</td>\n",
       "      <td>0.0</td>\n",
       "      <td>0.0</td>\n",
       "      <td>2.834020</td>\n",
       "      <td>0.142264</td>\n",
       "      <td>7.405517</td>\n",
       "      <td>0.0</td>\n",
       "      <td>0.000000</td>\n",
       "      <td>0.0</td>\n",
       "      <td>0.000000</td>\n",
       "      <td>0.0</td>\n",
       "    </tr>\n",
       "    <tr>\n",
       "      <th>2</th>\n",
       "      <td>0.0</td>\n",
       "      <td>0.0</td>\n",
       "      <td>0.0</td>\n",
       "      <td>0.0</td>\n",
       "      <td>0.0</td>\n",
       "      <td>0.000000</td>\n",
       "      <td>5.971231</td>\n",
       "      <td>2.959305</td>\n",
       "      <td>0.0</td>\n",
       "      <td>0.0</td>\n",
       "      <td>...</td>\n",
       "      <td>0.0</td>\n",
       "      <td>0.0</td>\n",
       "      <td>4.966250</td>\n",
       "      <td>0.000000</td>\n",
       "      <td>2.824276</td>\n",
       "      <td>0.0</td>\n",
       "      <td>0.000000</td>\n",
       "      <td>0.0</td>\n",
       "      <td>0.000000</td>\n",
       "      <td>0.0</td>\n",
       "    </tr>\n",
       "    <tr>\n",
       "      <th>3</th>\n",
       "      <td>0.0</td>\n",
       "      <td>0.0</td>\n",
       "      <td>0.0</td>\n",
       "      <td>0.0</td>\n",
       "      <td>0.0</td>\n",
       "      <td>1.929935</td>\n",
       "      <td>3.772087</td>\n",
       "      <td>0.063173</td>\n",
       "      <td>0.0</td>\n",
       "      <td>0.0</td>\n",
       "      <td>...</td>\n",
       "      <td>0.0</td>\n",
       "      <td>0.0</td>\n",
       "      <td>2.721999</td>\n",
       "      <td>2.550848</td>\n",
       "      <td>2.520071</td>\n",
       "      <td>0.0</td>\n",
       "      <td>7.375533</td>\n",
       "      <td>0.0</td>\n",
       "      <td>0.000000</td>\n",
       "      <td>0.0</td>\n",
       "    </tr>\n",
       "    <tr>\n",
       "      <th>4</th>\n",
       "      <td>0.0</td>\n",
       "      <td>0.0</td>\n",
       "      <td>0.0</td>\n",
       "      <td>0.0</td>\n",
       "      <td>0.0</td>\n",
       "      <td>1.556321</td>\n",
       "      <td>5.748743</td>\n",
       "      <td>1.846104</td>\n",
       "      <td>0.0</td>\n",
       "      <td>0.0</td>\n",
       "      <td>...</td>\n",
       "      <td>0.0</td>\n",
       "      <td>0.0</td>\n",
       "      <td>1.196026</td>\n",
       "      <td>0.082787</td>\n",
       "      <td>1.885393</td>\n",
       "      <td>0.0</td>\n",
       "      <td>3.384544</td>\n",
       "      <td>0.0</td>\n",
       "      <td>0.000000</td>\n",
       "      <td>0.0</td>\n",
       "    </tr>\n",
       "  </tbody>\n",
       "</table>\n",
       "<p>5 rows × 4096 columns</p>\n",
       "</div>"
      ],
      "text/plain": [
       "   0     1     2     3     4         5         6         7     8     9     \\\n",
       "0   0.0   0.0   0.0   0.0   0.0  0.000000  0.000000  4.257493   0.0   0.0   \n",
       "1   0.0   0.0   0.0   0.0   0.0  0.000000  5.266844  3.305715   0.0   0.0   \n",
       "2   0.0   0.0   0.0   0.0   0.0  0.000000  5.971231  2.959305   0.0   0.0   \n",
       "3   0.0   0.0   0.0   0.0   0.0  1.929935  3.772087  0.063173   0.0   0.0   \n",
       "4   0.0   0.0   0.0   0.0   0.0  1.556321  5.748743  1.846104   0.0   0.0   \n",
       "\n",
       "   ...   4086  4087      4088      4089      4090  4091      4092  4093  \\\n",
       "0  ...    0.0   0.0  2.554471  0.793837  5.341460   0.0  0.438358   0.0   \n",
       "1  ...    0.0   0.0  2.834020  0.142264  7.405517   0.0  0.000000   0.0   \n",
       "2  ...    0.0   0.0  4.966250  0.000000  2.824276   0.0  0.000000   0.0   \n",
       "3  ...    0.0   0.0  2.721999  2.550848  2.520071   0.0  7.375533   0.0   \n",
       "4  ...    0.0   0.0  1.196026  0.082787  1.885393   0.0  3.384544   0.0   \n",
       "\n",
       "       4094  4095  \n",
       "0  0.337547   0.0  \n",
       "1  0.000000   0.0  \n",
       "2  0.000000   0.0  \n",
       "3  0.000000   0.0  \n",
       "4  0.000000   0.0  \n",
       "\n",
       "[5 rows x 4096 columns]"
      ]
     },
     "execution_count": 3,
     "metadata": {},
     "output_type": "execute_result"
    }
   ],
   "source": [
    "vgg16_model_fc1_features.head()"
   ]
  },
  {
   "cell_type": "code",
   "execution_count": 4,
   "metadata": {},
   "outputs": [
    {
     "data": {
      "text/plain": [
       "(40000, 4096)"
      ]
     },
     "execution_count": 4,
     "metadata": {},
     "output_type": "execute_result"
    }
   ],
   "source": [
    "vgg16_model_fc1_features.shape"
   ]
  },
  {
   "cell_type": "code",
   "execution_count": 15,
   "metadata": {},
   "outputs": [
    {
     "name": "stdout",
     "output_type": "stream",
     "text": [
      "This step took time: 0:00:00\n"
     ]
    }
   ],
   "source": [
    "time_start = datetime.now()\n",
    "\n",
    "kmeans = KMeans(n_clusters=20, max_iter=30000, random_state=200)\n",
    "\n",
    "print('This step took time:', datetime.now() - time_start)"
   ]
  },
  {
   "cell_type": "code",
   "execution_count": 16,
   "metadata": {},
   "outputs": [
    {
     "name": "stdout",
     "output_type": "stream",
     "text": [
      "This step took time: 0:07:12.611316\n"
     ]
    }
   ],
   "source": [
    "time_start = datetime.now()\n",
    "\n",
    "kmeans.fit(vgg16_model_fc1_features.values)\n",
    "\n",
    "print('This step took time:', datetime.now() - time_start)"
   ]
  },
  {
   "cell_type": "code",
   "execution_count": 13,
   "metadata": {},
   "outputs": [
    {
     "name": "stdout",
     "output_type": "stream",
     "text": [
      "This step took time: 0:00:07.527950\n"
     ]
    }
   ],
   "source": [
    "time_start = datetime.now()\n",
    "\n",
    "output = kmeans.predict(vgg16_model_fc1_features.values)\n",
    "\n",
    "print('This step took time:', datetime.now() - time_start)"
   ]
  },
  {
   "cell_type": "code",
   "execution_count": 14,
   "metadata": {
    "scrolled": false
   },
   "outputs": [
    {
     "data": {
      "text/plain": [
       "[528,\n",
       " 32030,\n",
       " 377,\n",
       " 317,\n",
       " 256,\n",
       " 495,\n",
       " 434,\n",
       " 420,\n",
       " 376,\n",
       " 560,\n",
       " 244,\n",
       " 459,\n",
       " 459,\n",
       " 350,\n",
       " 490,\n",
       " 360,\n",
       " 351,\n",
       " 512,\n",
       " 536,\n",
       " 446]"
      ]
     },
     "execution_count": 14,
     "metadata": {},
     "output_type": "execute_result"
    }
   ],
   "source": [
    "labels = [\"cluster\" + str(i) for i in range(20)]\n",
    "cluster_dict = dict.fromkeys(labels, None) # dict with cluster number as keys and indices of relevant patches as values\n",
    "\n",
    "for i in range(len(output)):\n",
    "    if cluster_dict[\"cluster\" + str(output[i])] == None:\n",
    "        cluster_dict[\"cluster\" + str(output[i])] = [i]\n",
    "    else:\n",
    "        cluster_dict[\"cluster\" + str(output[i])].append(i)\n",
    "        \n",
    "[len(cluster_dict[key]) for key in cluster_dict]"
   ]
  },
  {
   "cell_type": "code",
   "execution_count": null,
   "metadata": {},
   "outputs": [],
   "source": []
  }
 ],
 "metadata": {
  "kernelspec": {
   "display_name": "Python 3",
   "language": "python",
   "name": "python3"
  },
  "language_info": {
   "codemirror_mode": {
    "name": "ipython",
    "version": 3
   },
   "file_extension": ".py",
   "mimetype": "text/x-python",
   "name": "python",
   "nbconvert_exporter": "python",
   "pygments_lexer": "ipython3",
   "version": "3.6.5"
  }
 },
 "nbformat": 4,
 "nbformat_minor": 2
}

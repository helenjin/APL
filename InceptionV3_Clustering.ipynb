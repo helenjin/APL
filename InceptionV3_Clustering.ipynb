{
 "cells": [
  {
   "cell_type": "code",
   "execution_count": 1,
   "metadata": {},
   "outputs": [],
   "source": [
    "import pandas as pd\n",
    "import numpy as np\n",
    "\n",
    "%matplotlib inline\n",
    "import matplotlib.pyplot as plt\n",
    "from sklearn.cluster import KMeans\n",
    "\n",
    "from datetime import datetime"
   ]
  },
  {
   "cell_type": "code",
   "execution_count": 2,
   "metadata": {},
   "outputs": [
    {
     "name": "stdout",
     "output_type": "stream",
     "text": [
      "This step took time: 0:00:25.843834\n"
     ]
    }
   ],
   "source": [
    "time_start = datetime.now()\n",
    "\n",
    "inception_model_avg_pool_features = pd.read_csv('inception_model_avg_pool_features.csv', sep=',', header=None)\n",
    "\n",
    "print('This step took time:', datetime.now() - time_start)"
   ]
  },
  {
   "cell_type": "code",
   "execution_count": 10,
   "metadata": {},
   "outputs": [
    {
     "data": {
      "text/plain": [
       "(40000, 2048)"
      ]
     },
     "execution_count": 10,
     "metadata": {},
     "output_type": "execute_result"
    }
   ],
   "source": [
    "inception_model_avg_pool_features.shape"
   ]
  },
  {
   "cell_type": "code",
   "execution_count": 17,
   "metadata": {},
   "outputs": [],
   "source": [
    "?kmeans"
   ]
  },
  {
   "cell_type": "code",
   "execution_count": 18,
   "metadata": {},
   "outputs": [
    {
     "name": "stdout",
     "output_type": "stream",
     "text": [
      "This step took time: 0:00:00\n"
     ]
    }
   ],
   "source": [
    "time_start = datetime.now()\n",
    "\n",
    "kmeans = KMeans(n_clusters=20, max_iter=3000, random_state=2019)\n",
    "\n",
    "print('This step took time:', datetime.now() - time_start)"
   ]
  },
  {
   "cell_type": "code",
   "execution_count": 6,
   "metadata": {},
   "outputs": [
    {
     "name": "stdout",
     "output_type": "stream",
     "text": [
      "This step took time: 0:03:24.086465\n"
     ]
    }
   ],
   "source": [
    "time_start = datetime.now()\n",
    "\n",
    "kmeans.fit(inception_model_avg_pool_features.values)\n",
    "\n",
    "print('This step took time:', datetime.now() - time_start)"
   ]
  },
  {
   "cell_type": "code",
   "execution_count": 7,
   "metadata": {},
   "outputs": [
    {
     "name": "stdout",
     "output_type": "stream",
     "text": [
      "This step took time: 0:00:06.246959\n"
     ]
    }
   ],
   "source": [
    "time_start = datetime.now()\n",
    "\n",
    "output = kmeans.predict(inception_model_avg_pool_features.values)\n",
    "\n",
    "print('This step took time:', datetime.now() - time_start)"
   ]
  },
  {
   "cell_type": "code",
   "execution_count": 8,
   "metadata": {
    "scrolled": false
   },
   "outputs": [
    {
     "data": {
      "text/plain": [
       "[35525,\n",
       " 215,\n",
       " 289,\n",
       " 308,\n",
       " 208,\n",
       " 227,\n",
       " 152,\n",
       " 267,\n",
       " 165,\n",
       " 269,\n",
       " 269,\n",
       " 170,\n",
       " 171,\n",
       " 235,\n",
       " 257,\n",
       " 301,\n",
       " 238,\n",
       " 236,\n",
       " 249,\n",
       " 249]"
      ]
     },
     "execution_count": 8,
     "metadata": {},
     "output_type": "execute_result"
    }
   ],
   "source": [
    "labels = [\"cluster\" + str(i) for i in range(20)]\n",
    "cluster_dict = dict.fromkeys(labels, None) # dict with cluster number as keys and indices of relevant patches as values\n",
    "\n",
    "for i in range(len(output)):\n",
    "    if cluster_dict[\"cluster\" + str(output[i])] == None:\n",
    "        cluster_dict[\"cluster\" + str(output[i])] = [i]\n",
    "    else:\n",
    "        cluster_dict[\"cluster\" + str(output[i])].append(i)\n",
    "        \n",
    "[len(cluster_dict[key]) for key in cluster_dict]"
   ]
  },
  {
   "cell_type": "code",
   "execution_count": null,
   "metadata": {},
   "outputs": [],
   "source": []
  }
 ],
 "metadata": {
  "kernelspec": {
   "display_name": "Python 3",
   "language": "python",
   "name": "python3"
  },
  "language_info": {
   "codemirror_mode": {
    "name": "ipython",
    "version": 3
   },
   "file_extension": ".py",
   "mimetype": "text/x-python",
   "name": "python",
   "nbconvert_exporter": "python",
   "pygments_lexer": "ipython3",
   "version": "3.6.5"
  }
 },
 "nbformat": 4,
 "nbformat_minor": 2
}

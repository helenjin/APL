{
 "cells": [
  {
   "cell_type": "code",
   "execution_count": 1,
   "metadata": {},
   "outputs": [],
   "source": [
    "import pandas as pd\n",
    "import numpy as np\n",
    "\n",
    "%matplotlib inline\n",
    "import matplotlib.pyplot as plt\n",
    "from sklearn.cluster import KMeans\n",
    "\n",
    "from datetime import datetime"
   ]
  },
  {
   "cell_type": "code",
   "execution_count": 2,
   "metadata": {},
   "outputs": [
    {
     "name": "stdout",
     "output_type": "stream",
     "text": [
      "This step took time: 0:00:21.068863\n"
     ]
    }
   ],
   "source": [
    "time_start = datetime.now()\n",
    "\n",
    "resnet_model_avg_pool_features = pd.read_csv('resnet_model_avg_pool_features.csv', sep=',', header=None)\n",
    "\n",
    "print('This step took time:', datetime.now() - time_start)"
   ]
  },
  {
   "cell_type": "code",
   "execution_count": 3,
   "metadata": {},
   "outputs": [
    {
     "data": {
      "text/html": [
       "<div>\n",
       "<style scoped>\n",
       "    .dataframe tbody tr th:only-of-type {\n",
       "        vertical-align: middle;\n",
       "    }\n",
       "\n",
       "    .dataframe tbody tr th {\n",
       "        vertical-align: top;\n",
       "    }\n",
       "\n",
       "    .dataframe thead th {\n",
       "        text-align: right;\n",
       "    }\n",
       "</style>\n",
       "<table border=\"1\" class=\"dataframe\">\n",
       "  <thead>\n",
       "    <tr style=\"text-align: right;\">\n",
       "      <th></th>\n",
       "      <th>0</th>\n",
       "      <th>1</th>\n",
       "      <th>2</th>\n",
       "      <th>3</th>\n",
       "      <th>4</th>\n",
       "      <th>5</th>\n",
       "      <th>6</th>\n",
       "      <th>7</th>\n",
       "      <th>8</th>\n",
       "      <th>9</th>\n",
       "      <th>...</th>\n",
       "      <th>2038</th>\n",
       "      <th>2039</th>\n",
       "      <th>2040</th>\n",
       "      <th>2041</th>\n",
       "      <th>2042</th>\n",
       "      <th>2043</th>\n",
       "      <th>2044</th>\n",
       "      <th>2045</th>\n",
       "      <th>2046</th>\n",
       "      <th>2047</th>\n",
       "    </tr>\n",
       "  </thead>\n",
       "  <tbody>\n",
       "    <tr>\n",
       "      <th>0</th>\n",
       "      <td>0.321032</td>\n",
       "      <td>0.000000</td>\n",
       "      <td>0.170868</td>\n",
       "      <td>0.142426</td>\n",
       "      <td>0.156579</td>\n",
       "      <td>0.0</td>\n",
       "      <td>0.000000</td>\n",
       "      <td>0.0</td>\n",
       "      <td>0.005849</td>\n",
       "      <td>2.299621</td>\n",
       "      <td>...</td>\n",
       "      <td>0.0</td>\n",
       "      <td>0.0</td>\n",
       "      <td>0.0</td>\n",
       "      <td>0.0</td>\n",
       "      <td>0.0</td>\n",
       "      <td>0.000000</td>\n",
       "      <td>0.008861</td>\n",
       "      <td>0.000000</td>\n",
       "      <td>0.0</td>\n",
       "      <td>0.0</td>\n",
       "    </tr>\n",
       "    <tr>\n",
       "      <th>1</th>\n",
       "      <td>0.025914</td>\n",
       "      <td>0.077498</td>\n",
       "      <td>0.030362</td>\n",
       "      <td>0.190770</td>\n",
       "      <td>0.409243</td>\n",
       "      <td>0.0</td>\n",
       "      <td>0.011032</td>\n",
       "      <td>0.0</td>\n",
       "      <td>0.000000</td>\n",
       "      <td>4.696556</td>\n",
       "      <td>...</td>\n",
       "      <td>0.0</td>\n",
       "      <td>0.0</td>\n",
       "      <td>0.0</td>\n",
       "      <td>0.0</td>\n",
       "      <td>0.0</td>\n",
       "      <td>0.000000</td>\n",
       "      <td>0.014146</td>\n",
       "      <td>0.018252</td>\n",
       "      <td>0.0</td>\n",
       "      <td>0.0</td>\n",
       "    </tr>\n",
       "    <tr>\n",
       "      <th>2</th>\n",
       "      <td>0.101121</td>\n",
       "      <td>0.000000</td>\n",
       "      <td>0.000000</td>\n",
       "      <td>0.001034</td>\n",
       "      <td>0.038722</td>\n",
       "      <td>0.0</td>\n",
       "      <td>0.000000</td>\n",
       "      <td>0.0</td>\n",
       "      <td>0.001288</td>\n",
       "      <td>2.118429</td>\n",
       "      <td>...</td>\n",
       "      <td>0.0</td>\n",
       "      <td>0.0</td>\n",
       "      <td>0.0</td>\n",
       "      <td>0.0</td>\n",
       "      <td>0.0</td>\n",
       "      <td>0.000000</td>\n",
       "      <td>0.065086</td>\n",
       "      <td>0.000000</td>\n",
       "      <td>0.0</td>\n",
       "      <td>0.0</td>\n",
       "    </tr>\n",
       "    <tr>\n",
       "      <th>3</th>\n",
       "      <td>0.251231</td>\n",
       "      <td>0.000000</td>\n",
       "      <td>0.000000</td>\n",
       "      <td>0.182683</td>\n",
       "      <td>0.056033</td>\n",
       "      <td>0.0</td>\n",
       "      <td>0.000000</td>\n",
       "      <td>0.0</td>\n",
       "      <td>0.015174</td>\n",
       "      <td>2.985418</td>\n",
       "      <td>...</td>\n",
       "      <td>0.0</td>\n",
       "      <td>0.0</td>\n",
       "      <td>0.0</td>\n",
       "      <td>0.0</td>\n",
       "      <td>0.0</td>\n",
       "      <td>0.000000</td>\n",
       "      <td>0.013374</td>\n",
       "      <td>0.001159</td>\n",
       "      <td>0.0</td>\n",
       "      <td>0.0</td>\n",
       "    </tr>\n",
       "    <tr>\n",
       "      <th>4</th>\n",
       "      <td>0.000000</td>\n",
       "      <td>0.000000</td>\n",
       "      <td>0.023521</td>\n",
       "      <td>0.136637</td>\n",
       "      <td>0.001189</td>\n",
       "      <td>0.0</td>\n",
       "      <td>0.000000</td>\n",
       "      <td>0.0</td>\n",
       "      <td>0.000000</td>\n",
       "      <td>3.385298</td>\n",
       "      <td>...</td>\n",
       "      <td>0.0</td>\n",
       "      <td>0.0</td>\n",
       "      <td>0.0</td>\n",
       "      <td>0.0</td>\n",
       "      <td>0.0</td>\n",
       "      <td>0.003623</td>\n",
       "      <td>0.000004</td>\n",
       "      <td>0.000000</td>\n",
       "      <td>0.0</td>\n",
       "      <td>0.0</td>\n",
       "    </tr>\n",
       "  </tbody>\n",
       "</table>\n",
       "<p>5 rows × 2048 columns</p>\n",
       "</div>"
      ],
      "text/plain": [
       "       0         1         2         3         4     5         6     7     \\\n",
       "0  0.321032  0.000000  0.170868  0.142426  0.156579   0.0  0.000000   0.0   \n",
       "1  0.025914  0.077498  0.030362  0.190770  0.409243   0.0  0.011032   0.0   \n",
       "2  0.101121  0.000000  0.000000  0.001034  0.038722   0.0  0.000000   0.0   \n",
       "3  0.251231  0.000000  0.000000  0.182683  0.056033   0.0  0.000000   0.0   \n",
       "4  0.000000  0.000000  0.023521  0.136637  0.001189   0.0  0.000000   0.0   \n",
       "\n",
       "       8         9     ...   2038  2039  2040  2041  2042      2043      2044  \\\n",
       "0  0.005849  2.299621  ...    0.0   0.0   0.0   0.0   0.0  0.000000  0.008861   \n",
       "1  0.000000  4.696556  ...    0.0   0.0   0.0   0.0   0.0  0.000000  0.014146   \n",
       "2  0.001288  2.118429  ...    0.0   0.0   0.0   0.0   0.0  0.000000  0.065086   \n",
       "3  0.015174  2.985418  ...    0.0   0.0   0.0   0.0   0.0  0.000000  0.013374   \n",
       "4  0.000000  3.385298  ...    0.0   0.0   0.0   0.0   0.0  0.003623  0.000004   \n",
       "\n",
       "       2045  2046  2047  \n",
       "0  0.000000   0.0   0.0  \n",
       "1  0.018252   0.0   0.0  \n",
       "2  0.000000   0.0   0.0  \n",
       "3  0.001159   0.0   0.0  \n",
       "4  0.000000   0.0   0.0  \n",
       "\n",
       "[5 rows x 2048 columns]"
      ]
     },
     "execution_count": 3,
     "metadata": {},
     "output_type": "execute_result"
    }
   ],
   "source": [
    "resnet_model_avg_pool_features.head()"
   ]
  },
  {
   "cell_type": "code",
   "execution_count": 4,
   "metadata": {},
   "outputs": [
    {
     "data": {
      "text/plain": [
       "(40000, 2048)"
      ]
     },
     "execution_count": 4,
     "metadata": {},
     "output_type": "execute_result"
    }
   ],
   "source": [
    "resnet_model_avg_pool_features.shape"
   ]
  },
  {
   "cell_type": "code",
   "execution_count": 5,
   "metadata": {},
   "outputs": [
    {
     "name": "stdout",
     "output_type": "stream",
     "text": [
      "This step took time: 0:00:00\n"
     ]
    }
   ],
   "source": [
    "time_start = datetime.now()\n",
    "\n",
    "kmeans = KMeans(n_clusters=20, max_iter=3000, random_state=2019)\n",
    "\n",
    "print('This step took time:', datetime.now() - time_start)"
   ]
  },
  {
   "cell_type": "code",
   "execution_count": 6,
   "metadata": {},
   "outputs": [
    {
     "name": "stdout",
     "output_type": "stream",
     "text": [
      "This step took time: 0:03:38.762000\n"
     ]
    }
   ],
   "source": [
    "time_start = datetime.now()\n",
    "\n",
    "kmeans.fit(resnet_model_avg_pool_features.values)\n",
    "\n",
    "print('This step took time:', datetime.now() - time_start)"
   ]
  },
  {
   "cell_type": "code",
   "execution_count": 7,
   "metadata": {},
   "outputs": [
    {
     "name": "stdout",
     "output_type": "stream",
     "text": [
      "This step took time: 0:00:03.325998\n"
     ]
    }
   ],
   "source": [
    "time_start = datetime.now()\n",
    "\n",
    "output = kmeans.predict(resnet_model_avg_pool_features.values)\n",
    "\n",
    "print('This step took time:', datetime.now() - time_start)"
   ]
  },
  {
   "cell_type": "code",
   "execution_count": 8,
   "metadata": {
    "scrolled": true
   },
   "outputs": [
    {
     "data": {
      "text/plain": [
       "[32029,\n",
       " 333,\n",
       " 379,\n",
       " 480,\n",
       " 257,\n",
       " 406,\n",
       " 625,\n",
       " 374,\n",
       " 506,\n",
       " 463,\n",
       " 589,\n",
       " 425,\n",
       " 460,\n",
       " 488,\n",
       " 508,\n",
       " 412,\n",
       " 402,\n",
       " 248,\n",
       " 266,\n",
       " 350]"
      ]
     },
     "execution_count": 8,
     "metadata": {},
     "output_type": "execute_result"
    }
   ],
   "source": [
    "labels = [\"cluster\" + str(i) for i in range(20)]\n",
    "cluster_dict = dict.fromkeys(labels, None) # dict with cluster number as keys and indices of relevant patches as values\n",
    "\n",
    "for i in range(len(output)):\n",
    "    if cluster_dict[\"cluster\" + str(output[i])] == None:\n",
    "        cluster_dict[\"cluster\" + str(output[i])] = [i]\n",
    "    else:\n",
    "        cluster_dict[\"cluster\" + str(output[i])].append(i)\n",
    "        \n",
    "[len(cluster_dict[key]) for key in cluster_dict]"
   ]
  },
  {
   "cell_type": "code",
   "execution_count": null,
   "metadata": {},
   "outputs": [],
   "source": []
  }
 ],
 "metadata": {
  "kernelspec": {
   "display_name": "Python 3",
   "language": "python",
   "name": "python3"
  },
  "language_info": {
   "codemirror_mode": {
    "name": "ipython",
    "version": 3
   },
   "file_extension": ".py",
   "mimetype": "text/x-python",
   "name": "python",
   "nbconvert_exporter": "python",
   "pygments_lexer": "ipython3",
   "version": "3.6.5"
  }
 },
 "nbformat": 4,
 "nbformat_minor": 2
}
